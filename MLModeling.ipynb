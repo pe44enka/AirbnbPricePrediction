{
  "nbformat": 4,
  "nbformat_minor": 0,
  "metadata": {
    "colab": {
      "name": "ML4Biz_FinalProject_MLModeling.ipynb",
      "provenance": [],
      "collapsed_sections": [
        "c6AxO3zqEQ0T",
        "1GznLEHyEou8",
        "8adobQA0Vg8_",
        "ybw78Qp_EfG5",
        "mO_XE5IbEjz2",
        "LcrE-06-GKNP",
        "S_Jl5AALZi3w",
        "TtXapBuFafrG",
        "YAvZj2_ScWc7",
        "Khm_7emdLzy1",
        "BL2j8VpXMDH3",
        "Pg-qopvAMzbF",
        "N3o6Fp3YNdgW",
        "8Cb4UQlITJzd"
      ],
      "authorship_tag": "ABX9TyMH4OFe5mMINqtDe+iHV82e",
      "include_colab_link": true
    },
    "kernelspec": {
      "name": "python3",
      "display_name": "Python 3"
    }
  },
  "cells": [
    {
      "cell_type": "markdown",
      "metadata": {
        "id": "view-in-github",
        "colab_type": "text"
      },
      "source": [
        "<a href=\"https://colab.research.google.com/github/pe44enka/AirbnbPricePrediction/blob/master/MLModeling.ipynb\" target=\"_parent\"><img src=\"https://colab.research.google.com/assets/colab-badge.svg\" alt=\"Open In Colab\"/></a>"
      ]
    },
    {
      "cell_type": "markdown",
      "metadata": {
        "id": "BhzYUT30K6WE",
        "colab_type": "text"
      },
      "source": [
        "# **Airbnb Price Prediction**"
      ]
    },
    {
      "cell_type": "code",
      "metadata": {
        "id": "6zO0GRBsK6WM",
        "colab_type": "code",
        "colab": {}
      },
      "source": [
        "import pandas as pd\n",
        "import numpy as np\n",
        "import matplotlib.pyplot as plt\n",
        "import seaborn as sns\n",
        "\n",
        "import statsmodels.api as sm\n",
        "from sklearn.model_selection import train_test_split, GridSearchCV\n",
        "from sklearn.linear_model import LinearRegression, Lasso\n",
        "from sklearn.preprocessing import StandardScaler\n",
        "from sklearn.feature_selection import SelectFromModel\n",
        "from sklearn.tree import DecisionTreeRegressor\n",
        "from sklearn.ensemble import RandomForestRegressor\n",
        "from xgboost import XGBRegressor"
      ],
      "execution_count": 128,
      "outputs": []
    },
    {
      "cell_type": "markdown",
      "metadata": {
        "id": "W9z3ts83n3L1",
        "colab_type": "text"
      },
      "source": [
        "![](https://media.bizj.us/view/img/11311656/most-popular-airbnb-experiences-in-san-francisco*1200xx5333-3000-0-0.jpg)"
      ]
    },
    {
      "cell_type": "markdown",
      "metadata": {
        "id": "rG_wM88EK6WK",
        "colab_type": "text"
      },
      "source": [
        "\n",
        "### Objectives\n",
        "\n",
        "Airbnb is a platform business that provides and guides an opportunity to link two groups - the hosts and the guests. Anybody with an open room or free space can become a host on Airbnb and offer it to global community. It is a good way to provide extra income with minimal effort. It is an easy way to advertise space because the platform has the traffic and a global user base to support it. Airbnb gives hosts an easy way to monetize a space that would otherwise be going to waste.\n",
        "\n",
        "On the other side we have guests with a very specific needs - some might be seeking affordable accomodation close to the city attractions while others a luxurious apartment by the sea. They might be groups, families or individuals both local and foreign. After every visit guests have an opportunity to rate they stay and leave their feedback.\n",
        "\n",
        "---\n",
        "\n",
        "### Goal of the project\n",
        "To built ML model to predict the price of rent on Airbnb and find out which factors might influent on it the most\n",
        "\n",
        "### Data\n",
        "[San Francisco Airbnb](https://www.kaggle.com/jeploretizo/san-francisco-airbnb-listings) dataset available at Kaggle\n",
        "\n",
        "---"
      ]
    },
    {
      "cell_type": "markdown",
      "metadata": {
        "id": "nERRbXKTi2tz",
        "colab_type": "text"
      },
      "source": [
        "# **Part II. Machine Learning Modeling**"
      ]
    },
    {
      "cell_type": "markdown",
      "metadata": {
        "id": "X5wYOcCDsh7a",
        "colab_type": "text"
      },
      "source": [
        "\n",
        "In this notebook I have applied different ML regression algorithms to pridict price of rent on Airbnb. For this I used early preproccesed [data](https://https://colab.research.google.com/drive/1p_vUEJ0Iph-dr2jhjHZnu5DnmPCXS74c#scrollTo=a0hYQ13lK6W0). I started with simple Linear Regression model and tried some tree-based model after with special attention to XGBoost parameters tuning. I also used tree-based models to find out which features influent on the price the most.\n",
        "\n",
        "---\n",
        "\n"
      ]
    },
    {
      "cell_type": "markdown",
      "metadata": {
        "id": "c6AxO3zqEQ0T",
        "colab_type": "text"
      },
      "source": [
        "# Linear Regression"
      ]
    },
    {
      "cell_type": "markdown",
      "metadata": {
        "id": "1GznLEHyEou8",
        "colab_type": "text"
      },
      "source": [
        "## Load Data"
      ]
    },
    {
      "cell_type": "code",
      "metadata": {
        "id": "d8f2t69lL9sk",
        "colab_type": "code",
        "colab": {
          "base_uri": "https://localhost:8080/",
          "height": 258
        },
        "outputId": "a37a0061-caa4-4900-8d97-870ba89158af"
      },
      "source": [
        "df = pd.read_csv('https://raw.githubusercontent.com/pe44enka/AirbnbPricePrediction/master/data/SF_cleaned_lr.csv')\n",
        "print(df.shape)\n",
        "df.head()"
      ],
      "execution_count": 256,
      "outputs": [
        {
          "output_type": "stream",
          "text": [
            "(7597, 77)\n"
          ],
          "name": "stdout"
        },
        {
          "output_type": "execute_result",
          "data": {
            "text/html": [
              "<div>\n",
              "<style scoped>\n",
              "    .dataframe tbody tr th:only-of-type {\n",
              "        vertical-align: middle;\n",
              "    }\n",
              "\n",
              "    .dataframe tbody tr th {\n",
              "        vertical-align: top;\n",
              "    }\n",
              "\n",
              "    .dataframe thead th {\n",
              "        text-align: right;\n",
              "    }\n",
              "</style>\n",
              "<table border=\"1\" class=\"dataframe\">\n",
              "  <thead>\n",
              "    <tr style=\"text-align: right;\">\n",
              "      <th></th>\n",
              "      <th>host_since</th>\n",
              "      <th>host_local</th>\n",
              "      <th>host_response_rate_pct</th>\n",
              "      <th>host_is_superhost</th>\n",
              "      <th>host_has_profile_pic</th>\n",
              "      <th>host_identity_verified</th>\n",
              "      <th>accommodates</th>\n",
              "      <th>bathrooms</th>\n",
              "      <th>bedrooms</th>\n",
              "      <th>emenities_num</th>\n",
              "      <th>price</th>\n",
              "      <th>security_deposit</th>\n",
              "      <th>cleaning_fee</th>\n",
              "      <th>guests_included</th>\n",
              "      <th>extra_people</th>\n",
              "      <th>min_nights</th>\n",
              "      <th>number_of_reviews</th>\n",
              "      <th>instant_bookable</th>\n",
              "      <th>require_guest_profile_picture</th>\n",
              "      <th>host_listing_count</th>\n",
              "      <th>listing_duration</th>\n",
              "      <th>review_per_month</th>\n",
              "      <th>review_score</th>\n",
              "      <th>host_response_time_few_days</th>\n",
              "      <th>host_response_time_few_hours</th>\n",
              "      <th>host_response_time_hour</th>\n",
              "      <th>neighbourhood_Bernal Heights</th>\n",
              "      <th>neighbourhood_Castro/Upper Market</th>\n",
              "      <th>neighbourhood_Chinatown</th>\n",
              "      <th>neighbourhood_Crocker Amazon</th>\n",
              "      <th>neighbourhood_Diamond Heights</th>\n",
              "      <th>neighbourhood_Downtown/Civic Center</th>\n",
              "      <th>neighbourhood_Excelsior</th>\n",
              "      <th>neighbourhood_Financial District</th>\n",
              "      <th>neighbourhood_Glen Park</th>\n",
              "      <th>neighbourhood_Golden Gate Park</th>\n",
              "      <th>neighbourhood_Haight Ashbury</th>\n",
              "      <th>neighbourhood_Inner Richmond</th>\n",
              "      <th>neighbourhood_Inner Sunset</th>\n",
              "      <th>neighbourhood_Lakeshore</th>\n",
              "      <th>neighbourhood_Marina</th>\n",
              "      <th>neighbourhood_Mission</th>\n",
              "      <th>neighbourhood_Nob Hill</th>\n",
              "      <th>neighbourhood_Noe Valley</th>\n",
              "      <th>neighbourhood_North Beach</th>\n",
              "      <th>neighbourhood_Ocean View</th>\n",
              "      <th>neighbourhood_Outer Mission</th>\n",
              "      <th>neighbourhood_Outer Richmond</th>\n",
              "      <th>neighbourhood_Outer Sunset</th>\n",
              "      <th>neighbourhood_Pacific Heights</th>\n",
              "      <th>neighbourhood_Parkside</th>\n",
              "      <th>neighbourhood_Potrero Hill</th>\n",
              "      <th>neighbourhood_Presidio</th>\n",
              "      <th>neighbourhood_Presidio Heights</th>\n",
              "      <th>neighbourhood_Russian Hill</th>\n",
              "      <th>neighbourhood_Seacliff</th>\n",
              "      <th>neighbourhood_South of Market</th>\n",
              "      <th>neighbourhood_Treasure Island/YBI</th>\n",
              "      <th>neighbourhood_Twin Peaks</th>\n",
              "      <th>neighbourhood_Visitacion Valley</th>\n",
              "      <th>neighbourhood_West of Twin Peaks</th>\n",
              "      <th>neighbourhood_Western Addition</th>\n",
              "      <th>property_type_Hotel</th>\n",
              "      <th>property_type_House</th>\n",
              "      <th>room_type_Hotel room</th>\n",
              "      <th>room_type_Private room</th>\n",
              "      <th>room_type_Shared room</th>\n",
              "      <th>bed_type_Couch</th>\n",
              "      <th>bed_type_Futon</th>\n",
              "      <th>bed_type_Pull-out Sofa</th>\n",
              "      <th>bed_type_Real Bed</th>\n",
              "      <th>cancellation_policy_moderate</th>\n",
              "      <th>cancellation_policy_strict</th>\n",
              "      <th>cancellation_policy_strict_14_with_grace_period</th>\n",
              "      <th>cancellation_policy_super_strict_30</th>\n",
              "      <th>cancellation_policy_super_strict_60</th>\n",
              "      <th>rent_term_short_term</th>\n",
              "    </tr>\n",
              "  </thead>\n",
              "  <tbody>\n",
              "    <tr>\n",
              "      <th>0</th>\n",
              "      <td>2008</td>\n",
              "      <td>1</td>\n",
              "      <td>1.00</td>\n",
              "      <td>1</td>\n",
              "      <td>1</td>\n",
              "      <td>1</td>\n",
              "      <td>3</td>\n",
              "      <td>1.0</td>\n",
              "      <td>1</td>\n",
              "      <td>32</td>\n",
              "      <td>170</td>\n",
              "      <td>100</td>\n",
              "      <td>100</td>\n",
              "      <td>2</td>\n",
              "      <td>25</td>\n",
              "      <td>1</td>\n",
              "      <td>217</td>\n",
              "      <td>0</td>\n",
              "      <td>0</td>\n",
              "      <td>1</td>\n",
              "      <td>3735</td>\n",
              "      <td>1.8</td>\n",
              "      <td>9.83</td>\n",
              "      <td>0</td>\n",
              "      <td>0</td>\n",
              "      <td>0</td>\n",
              "      <td>0</td>\n",
              "      <td>0</td>\n",
              "      <td>0</td>\n",
              "      <td>0</td>\n",
              "      <td>0</td>\n",
              "      <td>0</td>\n",
              "      <td>0</td>\n",
              "      <td>0</td>\n",
              "      <td>0</td>\n",
              "      <td>0</td>\n",
              "      <td>0</td>\n",
              "      <td>0</td>\n",
              "      <td>0</td>\n",
              "      <td>0</td>\n",
              "      <td>0</td>\n",
              "      <td>0</td>\n",
              "      <td>0</td>\n",
              "      <td>0</td>\n",
              "      <td>0</td>\n",
              "      <td>0</td>\n",
              "      <td>0</td>\n",
              "      <td>0</td>\n",
              "      <td>0</td>\n",
              "      <td>0</td>\n",
              "      <td>0</td>\n",
              "      <td>0</td>\n",
              "      <td>0</td>\n",
              "      <td>0</td>\n",
              "      <td>0</td>\n",
              "      <td>0</td>\n",
              "      <td>0</td>\n",
              "      <td>0</td>\n",
              "      <td>0</td>\n",
              "      <td>0</td>\n",
              "      <td>0</td>\n",
              "      <td>1</td>\n",
              "      <td>0</td>\n",
              "      <td>0</td>\n",
              "      <td>0</td>\n",
              "      <td>0</td>\n",
              "      <td>0</td>\n",
              "      <td>0</td>\n",
              "      <td>0</td>\n",
              "      <td>0</td>\n",
              "      <td>1</td>\n",
              "      <td>1</td>\n",
              "      <td>0</td>\n",
              "      <td>0</td>\n",
              "      <td>0</td>\n",
              "      <td>0</td>\n",
              "      <td>1</td>\n",
              "    </tr>\n",
              "    <tr>\n",
              "      <th>1</th>\n",
              "      <td>2008</td>\n",
              "      <td>1</td>\n",
              "      <td>1.00</td>\n",
              "      <td>1</td>\n",
              "      <td>1</td>\n",
              "      <td>1</td>\n",
              "      <td>2</td>\n",
              "      <td>1.0</td>\n",
              "      <td>1</td>\n",
              "      <td>30</td>\n",
              "      <td>99</td>\n",
              "      <td>0</td>\n",
              "      <td>10</td>\n",
              "      <td>2</td>\n",
              "      <td>20</td>\n",
              "      <td>1</td>\n",
              "      <td>160</td>\n",
              "      <td>0</td>\n",
              "      <td>0</td>\n",
              "      <td>3</td>\n",
              "      <td>3742</td>\n",
              "      <td>1.3</td>\n",
              "      <td>10.00</td>\n",
              "      <td>0</td>\n",
              "      <td>0</td>\n",
              "      <td>1</td>\n",
              "      <td>0</td>\n",
              "      <td>0</td>\n",
              "      <td>0</td>\n",
              "      <td>0</td>\n",
              "      <td>0</td>\n",
              "      <td>0</td>\n",
              "      <td>0</td>\n",
              "      <td>0</td>\n",
              "      <td>0</td>\n",
              "      <td>0</td>\n",
              "      <td>0</td>\n",
              "      <td>0</td>\n",
              "      <td>1</td>\n",
              "      <td>0</td>\n",
              "      <td>0</td>\n",
              "      <td>0</td>\n",
              "      <td>0</td>\n",
              "      <td>0</td>\n",
              "      <td>0</td>\n",
              "      <td>0</td>\n",
              "      <td>0</td>\n",
              "      <td>0</td>\n",
              "      <td>0</td>\n",
              "      <td>0</td>\n",
              "      <td>0</td>\n",
              "      <td>0</td>\n",
              "      <td>0</td>\n",
              "      <td>0</td>\n",
              "      <td>0</td>\n",
              "      <td>0</td>\n",
              "      <td>0</td>\n",
              "      <td>0</td>\n",
              "      <td>0</td>\n",
              "      <td>0</td>\n",
              "      <td>0</td>\n",
              "      <td>0</td>\n",
              "      <td>0</td>\n",
              "      <td>1</td>\n",
              "      <td>0</td>\n",
              "      <td>1</td>\n",
              "      <td>0</td>\n",
              "      <td>0</td>\n",
              "      <td>0</td>\n",
              "      <td>0</td>\n",
              "      <td>1</td>\n",
              "      <td>0</td>\n",
              "      <td>0</td>\n",
              "      <td>1</td>\n",
              "      <td>0</td>\n",
              "      <td>0</td>\n",
              "      <td>1</td>\n",
              "    </tr>\n",
              "    <tr>\n",
              "      <th>2</th>\n",
              "      <td>2009</td>\n",
              "      <td>1</td>\n",
              "      <td>0.80</td>\n",
              "      <td>0</td>\n",
              "      <td>1</td>\n",
              "      <td>1</td>\n",
              "      <td>5</td>\n",
              "      <td>1.0</td>\n",
              "      <td>2</td>\n",
              "      <td>17</td>\n",
              "      <td>235</td>\n",
              "      <td>0</td>\n",
              "      <td>100</td>\n",
              "      <td>2</td>\n",
              "      <td>0</td>\n",
              "      <td>30</td>\n",
              "      <td>111</td>\n",
              "      <td>0</td>\n",
              "      <td>0</td>\n",
              "      <td>1</td>\n",
              "      <td>3816</td>\n",
              "      <td>0.9</td>\n",
              "      <td>9.83</td>\n",
              "      <td>0</td>\n",
              "      <td>0</td>\n",
              "      <td>0</td>\n",
              "      <td>1</td>\n",
              "      <td>0</td>\n",
              "      <td>0</td>\n",
              "      <td>0</td>\n",
              "      <td>0</td>\n",
              "      <td>0</td>\n",
              "      <td>0</td>\n",
              "      <td>0</td>\n",
              "      <td>0</td>\n",
              "      <td>0</td>\n",
              "      <td>0</td>\n",
              "      <td>0</td>\n",
              "      <td>0</td>\n",
              "      <td>0</td>\n",
              "      <td>0</td>\n",
              "      <td>0</td>\n",
              "      <td>0</td>\n",
              "      <td>0</td>\n",
              "      <td>0</td>\n",
              "      <td>0</td>\n",
              "      <td>0</td>\n",
              "      <td>0</td>\n",
              "      <td>0</td>\n",
              "      <td>0</td>\n",
              "      <td>0</td>\n",
              "      <td>0</td>\n",
              "      <td>0</td>\n",
              "      <td>0</td>\n",
              "      <td>0</td>\n",
              "      <td>0</td>\n",
              "      <td>0</td>\n",
              "      <td>0</td>\n",
              "      <td>0</td>\n",
              "      <td>0</td>\n",
              "      <td>0</td>\n",
              "      <td>0</td>\n",
              "      <td>0</td>\n",
              "      <td>0</td>\n",
              "      <td>0</td>\n",
              "      <td>0</td>\n",
              "      <td>0</td>\n",
              "      <td>0</td>\n",
              "      <td>0</td>\n",
              "      <td>0</td>\n",
              "      <td>1</td>\n",
              "      <td>0</td>\n",
              "      <td>0</td>\n",
              "      <td>1</td>\n",
              "      <td>0</td>\n",
              "      <td>0</td>\n",
              "      <td>1</td>\n",
              "    </tr>\n",
              "    <tr>\n",
              "      <th>3</th>\n",
              "      <td>2009</td>\n",
              "      <td>1</td>\n",
              "      <td>0.86</td>\n",
              "      <td>1</td>\n",
              "      <td>1</td>\n",
              "      <td>1</td>\n",
              "      <td>2</td>\n",
              "      <td>4.0</td>\n",
              "      <td>1</td>\n",
              "      <td>18</td>\n",
              "      <td>65</td>\n",
              "      <td>200</td>\n",
              "      <td>50</td>\n",
              "      <td>1</td>\n",
              "      <td>12</td>\n",
              "      <td>32</td>\n",
              "      <td>18</td>\n",
              "      <td>0</td>\n",
              "      <td>0</td>\n",
              "      <td>9</td>\n",
              "      <td>3696</td>\n",
              "      <td>0.1</td>\n",
              "      <td>8.50</td>\n",
              "      <td>0</td>\n",
              "      <td>0</td>\n",
              "      <td>1</td>\n",
              "      <td>0</td>\n",
              "      <td>0</td>\n",
              "      <td>0</td>\n",
              "      <td>0</td>\n",
              "      <td>0</td>\n",
              "      <td>0</td>\n",
              "      <td>0</td>\n",
              "      <td>0</td>\n",
              "      <td>0</td>\n",
              "      <td>0</td>\n",
              "      <td>1</td>\n",
              "      <td>0</td>\n",
              "      <td>0</td>\n",
              "      <td>0</td>\n",
              "      <td>0</td>\n",
              "      <td>0</td>\n",
              "      <td>0</td>\n",
              "      <td>0</td>\n",
              "      <td>0</td>\n",
              "      <td>0</td>\n",
              "      <td>0</td>\n",
              "      <td>0</td>\n",
              "      <td>0</td>\n",
              "      <td>0</td>\n",
              "      <td>0</td>\n",
              "      <td>0</td>\n",
              "      <td>0</td>\n",
              "      <td>0</td>\n",
              "      <td>0</td>\n",
              "      <td>0</td>\n",
              "      <td>0</td>\n",
              "      <td>0</td>\n",
              "      <td>0</td>\n",
              "      <td>0</td>\n",
              "      <td>0</td>\n",
              "      <td>0</td>\n",
              "      <td>0</td>\n",
              "      <td>0</td>\n",
              "      <td>0</td>\n",
              "      <td>1</td>\n",
              "      <td>0</td>\n",
              "      <td>0</td>\n",
              "      <td>0</td>\n",
              "      <td>0</td>\n",
              "      <td>1</td>\n",
              "      <td>0</td>\n",
              "      <td>0</td>\n",
              "      <td>1</td>\n",
              "      <td>0</td>\n",
              "      <td>0</td>\n",
              "      <td>0</td>\n",
              "    </tr>\n",
              "    <tr>\n",
              "      <th>4</th>\n",
              "      <td>2009</td>\n",
              "      <td>1</td>\n",
              "      <td>0.86</td>\n",
              "      <td>1</td>\n",
              "      <td>1</td>\n",
              "      <td>1</td>\n",
              "      <td>2</td>\n",
              "      <td>4.0</td>\n",
              "      <td>1</td>\n",
              "      <td>16</td>\n",
              "      <td>65</td>\n",
              "      <td>200</td>\n",
              "      <td>50</td>\n",
              "      <td>1</td>\n",
              "      <td>12</td>\n",
              "      <td>32</td>\n",
              "      <td>8</td>\n",
              "      <td>0</td>\n",
              "      <td>0</td>\n",
              "      <td>9</td>\n",
              "      <td>1862</td>\n",
              "      <td>0.1</td>\n",
              "      <td>9.33</td>\n",
              "      <td>0</td>\n",
              "      <td>0</td>\n",
              "      <td>1</td>\n",
              "      <td>0</td>\n",
              "      <td>0</td>\n",
              "      <td>0</td>\n",
              "      <td>0</td>\n",
              "      <td>0</td>\n",
              "      <td>0</td>\n",
              "      <td>0</td>\n",
              "      <td>0</td>\n",
              "      <td>0</td>\n",
              "      <td>0</td>\n",
              "      <td>1</td>\n",
              "      <td>0</td>\n",
              "      <td>0</td>\n",
              "      <td>0</td>\n",
              "      <td>0</td>\n",
              "      <td>0</td>\n",
              "      <td>0</td>\n",
              "      <td>0</td>\n",
              "      <td>0</td>\n",
              "      <td>0</td>\n",
              "      <td>0</td>\n",
              "      <td>0</td>\n",
              "      <td>0</td>\n",
              "      <td>0</td>\n",
              "      <td>0</td>\n",
              "      <td>0</td>\n",
              "      <td>0</td>\n",
              "      <td>0</td>\n",
              "      <td>0</td>\n",
              "      <td>0</td>\n",
              "      <td>0</td>\n",
              "      <td>0</td>\n",
              "      <td>0</td>\n",
              "      <td>0</td>\n",
              "      <td>0</td>\n",
              "      <td>0</td>\n",
              "      <td>0</td>\n",
              "      <td>0</td>\n",
              "      <td>0</td>\n",
              "      <td>1</td>\n",
              "      <td>0</td>\n",
              "      <td>0</td>\n",
              "      <td>0</td>\n",
              "      <td>0</td>\n",
              "      <td>1</td>\n",
              "      <td>0</td>\n",
              "      <td>0</td>\n",
              "      <td>1</td>\n",
              "      <td>0</td>\n",
              "      <td>0</td>\n",
              "      <td>0</td>\n",
              "    </tr>\n",
              "  </tbody>\n",
              "</table>\n",
              "</div>"
            ],
            "text/plain": [
              "   host_since  ...  rent_term_short_term\n",
              "0        2008  ...                     1\n",
              "1        2008  ...                     1\n",
              "2        2009  ...                     1\n",
              "3        2009  ...                     0\n",
              "4        2009  ...                     0\n",
              "\n",
              "[5 rows x 77 columns]"
            ]
          },
          "metadata": {
            "tags": []
          },
          "execution_count": 256
        }
      ]
    },
    {
      "cell_type": "markdown",
      "metadata": {
        "id": "eMZVa6hqTlmZ",
        "colab_type": "text"
      },
      "source": [
        "\n",
        "\n",
        "---\n",
        "\n",
        "Data was preprocessed earlier, but let's confirm that there is neither missing data nor categorical features.\n",
        "\n",
        "---\n",
        "\n"
      ]
    },
    {
      "cell_type": "code",
      "metadata": {
        "id": "TAu4fHHBKMJ3",
        "colab_type": "code",
        "colab": {
          "base_uri": "https://localhost:8080/",
          "height": 85
        },
        "outputId": "3f4625a7-b0f9-41e3-fb7b-e019db57f17a"
      },
      "source": [
        "df.isna().sum().values"
      ],
      "execution_count": 103,
      "outputs": [
        {
          "output_type": "execute_result",
          "data": {
            "text/plain": [
              "array([0, 0, 0, 0, 0, 0, 0, 0, 0, 0, 0, 0, 0, 0, 0, 0, 0, 0, 0, 0, 0, 0,\n",
              "       0, 0, 0, 0, 0, 0, 0, 0, 0, 0, 0, 0, 0, 0, 0, 0, 0, 0, 0, 0, 0, 0,\n",
              "       0, 0, 0, 0, 0, 0, 0, 0, 0, 0, 0, 0, 0, 0, 0, 0, 0, 0, 0, 0, 0, 0,\n",
              "       0, 0, 0, 0, 0, 0, 0, 0, 0, 0, 0])"
            ]
          },
          "metadata": {
            "tags": []
          },
          "execution_count": 103
        }
      ]
    },
    {
      "cell_type": "code",
      "metadata": {
        "id": "hArKtboATrQr",
        "colab_type": "code",
        "colab": {
          "base_uri": "https://localhost:8080/",
          "height": 357
        },
        "outputId": "a094f15e-e40f-4de8-d740-b89f59b0043a"
      },
      "source": [
        "df.dtypes.values"
      ],
      "execution_count": 104,
      "outputs": [
        {
          "output_type": "execute_result",
          "data": {
            "text/plain": [
              "array([dtype('int64'), dtype('int64'), dtype('float64'), dtype('int64'),\n",
              "       dtype('int64'), dtype('int64'), dtype('int64'), dtype('float64'),\n",
              "       dtype('int64'), dtype('int64'), dtype('int64'), dtype('int64'),\n",
              "       dtype('int64'), dtype('int64'), dtype('int64'), dtype('int64'),\n",
              "       dtype('int64'), dtype('int64'), dtype('int64'), dtype('int64'),\n",
              "       dtype('int64'), dtype('float64'), dtype('float64'), dtype('int64'),\n",
              "       dtype('int64'), dtype('int64'), dtype('int64'), dtype('int64'),\n",
              "       dtype('int64'), dtype('int64'), dtype('int64'), dtype('int64'),\n",
              "       dtype('int64'), dtype('int64'), dtype('int64'), dtype('int64'),\n",
              "       dtype('int64'), dtype('int64'), dtype('int64'), dtype('int64'),\n",
              "       dtype('int64'), dtype('int64'), dtype('int64'), dtype('int64'),\n",
              "       dtype('int64'), dtype('int64'), dtype('int64'), dtype('int64'),\n",
              "       dtype('int64'), dtype('int64'), dtype('int64'), dtype('int64'),\n",
              "       dtype('int64'), dtype('int64'), dtype('int64'), dtype('int64'),\n",
              "       dtype('int64'), dtype('int64'), dtype('int64'), dtype('int64'),\n",
              "       dtype('int64'), dtype('int64'), dtype('int64'), dtype('int64'),\n",
              "       dtype('int64'), dtype('int64'), dtype('int64'), dtype('int64'),\n",
              "       dtype('int64'), dtype('int64'), dtype('int64'), dtype('int64'),\n",
              "       dtype('int64'), dtype('int64'), dtype('int64'), dtype('int64'),\n",
              "       dtype('int64')], dtype=object)"
            ]
          },
          "metadata": {
            "tags": []
          },
          "execution_count": 104
        }
      ]
    },
    {
      "cell_type": "markdown",
      "metadata": {
        "id": "8adobQA0Vg8_",
        "colab_type": "text"
      },
      "source": [
        "## Arrange Data"
      ]
    },
    {
      "cell_type": "markdown",
      "metadata": {
        "id": "ybw78Qp_EfG5",
        "colab_type": "text"
      },
      "source": [
        "### Feature Matrix & Target Vector"
      ]
    },
    {
      "cell_type": "markdown",
      "metadata": {
        "id": "jYiP06RcUoQa",
        "colab_type": "text"
      },
      "source": [
        "\n",
        "As first step, let's arrange data into feature matrix and target vector (`price`).\n",
        "\n",
        "---"
      ]
    },
    {
      "cell_type": "code",
      "metadata": {
        "id": "S_T4bebvUjC8",
        "colab_type": "code",
        "colab": {
          "base_uri": "https://localhost:8080/",
          "height": 51
        },
        "outputId": "b25d2ab1-3d64-4067-c6d9-2de7abfddfab"
      },
      "source": [
        "y = df.pop('price')\n",
        "X = df\n",
        "print('X.shape: ', X.shape, '\\ny.shape: ', y.shape)"
      ],
      "execution_count": 257,
      "outputs": [
        {
          "output_type": "stream",
          "text": [
            "X.shape:  (7597, 76) \n",
            "y.shape:  (7597,)\n"
          ],
          "name": "stdout"
        }
      ]
    },
    {
      "cell_type": "markdown",
      "metadata": {
        "id": "mO_XE5IbEjz2",
        "colab_type": "text"
      },
      "source": [
        "### Data Standartization"
      ]
    },
    {
      "cell_type": "markdown",
      "metadata": {
        "id": "35clpJBREDe5",
        "colab_type": "text"
      },
      "source": [
        "\n",
        "\n",
        "Before applying Linear Regression Model we need to standartize feature matrix:\n",
        "* make sure that mean of values in each such a column = 0\n",
        "* standart deviation through each column = 1\n",
        "\n",
        "If the data is not standartized varience of one columns can be much bigger than varience of another one what makes it impossible to compare them.\n",
        "\n",
        "We will standartize just the columns which values vary not between 0 and 1 => mean of the column is more than 1.\n",
        "\n",
        "---\n",
        "\n"
      ]
    },
    {
      "cell_type": "code",
      "metadata": {
        "id": "q-eC8J7zDqgg",
        "colab_type": "code",
        "colab": {
          "base_uri": "https://localhost:8080/",
          "height": 272
        },
        "outputId": "d343227d-c2fd-4959-9b7e-1aec8f31cb1d"
      },
      "source": [
        "#cols to stanndatize\n",
        "cols_to_standart = X.mean()[X.mean()>1].index.tolist()\n",
        "cols_to_standart"
      ],
      "execution_count": 231,
      "outputs": [
        {
          "output_type": "execute_result",
          "data": {
            "text/plain": [
              "['host_since',\n",
              " 'accommodates',\n",
              " 'bathrooms',\n",
              " 'bedrooms',\n",
              " 'emenities_num',\n",
              " 'security_deposit',\n",
              " 'cleaning_fee',\n",
              " 'guests_included',\n",
              " 'extra_people',\n",
              " 'min_nights',\n",
              " 'number_of_reviews',\n",
              " 'host_listing_count',\n",
              " 'listing_duration',\n",
              " 'review_per_month',\n",
              " 'review_score']"
            ]
          },
          "metadata": {
            "tags": []
          },
          "execution_count": 231
        }
      ]
    },
    {
      "cell_type": "code",
      "metadata": {
        "id": "ryHKMq9KFEvX",
        "colab_type": "code",
        "colab": {
          "base_uri": "https://localhost:8080/",
          "height": 221
        },
        "outputId": "40f144bd-120d-4f51-d2bc-9e5d8e47cbb2"
      },
      "source": [
        "#data standartization\n",
        "std = StandardScaler()\n",
        "X_std = pd.DataFrame(std.fit_transform(X[cols_to_standart]), columns=cols_to_standart)\n",
        "print(X_std.shape)\n",
        "X_std.head()"
      ],
      "execution_count": 258,
      "outputs": [
        {
          "output_type": "stream",
          "text": [
            "(7597, 15)\n"
          ],
          "name": "stdout"
        },
        {
          "output_type": "execute_result",
          "data": {
            "text/html": [
              "<div>\n",
              "<style scoped>\n",
              "    .dataframe tbody tr th:only-of-type {\n",
              "        vertical-align: middle;\n",
              "    }\n",
              "\n",
              "    .dataframe tbody tr th {\n",
              "        vertical-align: top;\n",
              "    }\n",
              "\n",
              "    .dataframe thead th {\n",
              "        text-align: right;\n",
              "    }\n",
              "</style>\n",
              "<table border=\"1\" class=\"dataframe\">\n",
              "  <thead>\n",
              "    <tr style=\"text-align: right;\">\n",
              "      <th></th>\n",
              "      <th>host_since</th>\n",
              "      <th>accommodates</th>\n",
              "      <th>bathrooms</th>\n",
              "      <th>bedrooms</th>\n",
              "      <th>emenities_num</th>\n",
              "      <th>security_deposit</th>\n",
              "      <th>cleaning_fee</th>\n",
              "      <th>guests_included</th>\n",
              "      <th>extra_people</th>\n",
              "      <th>min_nights</th>\n",
              "      <th>number_of_reviews</th>\n",
              "      <th>host_listing_count</th>\n",
              "      <th>listing_duration</th>\n",
              "      <th>review_per_month</th>\n",
              "      <th>review_score</th>\n",
              "    </tr>\n",
              "  </thead>\n",
              "  <tbody>\n",
              "    <tr>\n",
              "      <th>0</th>\n",
              "      <td>-2.525224</td>\n",
              "      <td>0.018350</td>\n",
              "      <td>-0.385266</td>\n",
              "      <td>-0.308769</td>\n",
              "      <td>0.435115</td>\n",
              "      <td>-0.367661</td>\n",
              "      <td>0.099758</td>\n",
              "      <td>0.319896</td>\n",
              "      <td>0.336753</td>\n",
              "      <td>-0.011487</td>\n",
              "      <td>2.115158</td>\n",
              "      <td>-0.404634</td>\n",
              "      <td>3.672382</td>\n",
              "      <td>0.073726</td>\n",
              "      <td>0.542253</td>\n",
              "    </tr>\n",
              "    <tr>\n",
              "      <th>1</th>\n",
              "      <td>-2.525224</td>\n",
              "      <td>-0.579964</td>\n",
              "      <td>-0.385266</td>\n",
              "      <td>-0.308769</td>\n",
              "      <td>0.250395</td>\n",
              "      <td>-0.521609</td>\n",
              "      <td>-0.984384</td>\n",
              "      <td>0.319896</td>\n",
              "      <td>0.159368</td>\n",
              "      <td>-0.011487</td>\n",
              "      <td>1.406054</td>\n",
              "      <td>-0.368852</td>\n",
              "      <td>3.681083</td>\n",
              "      <td>-0.146369</td>\n",
              "      <td>0.585491</td>\n",
              "    </tr>\n",
              "    <tr>\n",
              "      <th>2</th>\n",
              "      <td>-2.129487</td>\n",
              "      <td>1.214979</td>\n",
              "      <td>-0.385266</td>\n",
              "      <td>0.906001</td>\n",
              "      <td>-0.950287</td>\n",
              "      <td>-0.521609</td>\n",
              "      <td>0.099758</td>\n",
              "      <td>0.319896</td>\n",
              "      <td>-0.550170</td>\n",
              "      <td>-0.011462</td>\n",
              "      <td>0.796474</td>\n",
              "      <td>-0.404634</td>\n",
              "      <td>3.773065</td>\n",
              "      <td>-0.322445</td>\n",
              "      <td>0.542253</td>\n",
              "    </tr>\n",
              "    <tr>\n",
              "      <th>3</th>\n",
              "      <td>-2.129487</td>\n",
              "      <td>-0.579964</td>\n",
              "      <td>2.933179</td>\n",
              "      <td>-0.308769</td>\n",
              "      <td>-0.857926</td>\n",
              "      <td>-0.213713</td>\n",
              "      <td>-0.502543</td>\n",
              "      <td>-0.539456</td>\n",
              "      <td>-0.124447</td>\n",
              "      <td>-0.011460</td>\n",
              "      <td>-0.360484</td>\n",
              "      <td>-0.261505</td>\n",
              "      <td>3.623905</td>\n",
              "      <td>-0.674597</td>\n",
              "      <td>0.203975</td>\n",
              "    </tr>\n",
              "    <tr>\n",
              "      <th>4</th>\n",
              "      <td>-2.129487</td>\n",
              "      <td>-0.579964</td>\n",
              "      <td>2.933179</td>\n",
              "      <td>-0.308769</td>\n",
              "      <td>-1.042647</td>\n",
              "      <td>-0.213713</td>\n",
              "      <td>-0.502543</td>\n",
              "      <td>-0.539456</td>\n",
              "      <td>-0.124447</td>\n",
              "      <td>-0.011460</td>\n",
              "      <td>-0.484888</td>\n",
              "      <td>-0.261505</td>\n",
              "      <td>1.344244</td>\n",
              "      <td>-0.674597</td>\n",
              "      <td>0.415081</td>\n",
              "    </tr>\n",
              "  </tbody>\n",
              "</table>\n",
              "</div>"
            ],
            "text/plain": [
              "   host_since  accommodates  ...  review_per_month  review_score\n",
              "0   -2.525224      0.018350  ...          0.073726      0.542253\n",
              "1   -2.525224     -0.579964  ...         -0.146369      0.585491\n",
              "2   -2.129487      1.214979  ...         -0.322445      0.542253\n",
              "3   -2.129487     -0.579964  ...         -0.674597      0.203975\n",
              "4   -2.129487     -0.579964  ...         -0.674597      0.415081\n",
              "\n",
              "[5 rows x 15 columns]"
            ]
          },
          "metadata": {
            "tags": []
          },
          "execution_count": 258
        }
      ]
    },
    {
      "cell_type": "code",
      "metadata": {
        "id": "nGwxbi4wFpZr",
        "colab_type": "code",
        "colab": {
          "base_uri": "https://localhost:8080/",
          "height": 258
        },
        "outputId": "18ca5fc3-012b-4fa2-b538-905ae9694546"
      },
      "source": [
        "X = X.drop(columns=cols_to_standart)\n",
        "X = X.merge(X_std, left_index=True, right_index=True, how='left')\n",
        "print(X.shape)\n",
        "X.head()"
      ],
      "execution_count": 259,
      "outputs": [
        {
          "output_type": "stream",
          "text": [
            "(7597, 76)\n"
          ],
          "name": "stdout"
        },
        {
          "output_type": "execute_result",
          "data": {
            "text/html": [
              "<div>\n",
              "<style scoped>\n",
              "    .dataframe tbody tr th:only-of-type {\n",
              "        vertical-align: middle;\n",
              "    }\n",
              "\n",
              "    .dataframe tbody tr th {\n",
              "        vertical-align: top;\n",
              "    }\n",
              "\n",
              "    .dataframe thead th {\n",
              "        text-align: right;\n",
              "    }\n",
              "</style>\n",
              "<table border=\"1\" class=\"dataframe\">\n",
              "  <thead>\n",
              "    <tr style=\"text-align: right;\">\n",
              "      <th></th>\n",
              "      <th>host_local</th>\n",
              "      <th>host_response_rate_pct</th>\n",
              "      <th>host_is_superhost</th>\n",
              "      <th>host_has_profile_pic</th>\n",
              "      <th>host_identity_verified</th>\n",
              "      <th>instant_bookable</th>\n",
              "      <th>require_guest_profile_picture</th>\n",
              "      <th>host_response_time_few_days</th>\n",
              "      <th>host_response_time_few_hours</th>\n",
              "      <th>host_response_time_hour</th>\n",
              "      <th>neighbourhood_Bernal Heights</th>\n",
              "      <th>neighbourhood_Castro/Upper Market</th>\n",
              "      <th>neighbourhood_Chinatown</th>\n",
              "      <th>neighbourhood_Crocker Amazon</th>\n",
              "      <th>neighbourhood_Diamond Heights</th>\n",
              "      <th>neighbourhood_Downtown/Civic Center</th>\n",
              "      <th>neighbourhood_Excelsior</th>\n",
              "      <th>neighbourhood_Financial District</th>\n",
              "      <th>neighbourhood_Glen Park</th>\n",
              "      <th>neighbourhood_Golden Gate Park</th>\n",
              "      <th>neighbourhood_Haight Ashbury</th>\n",
              "      <th>neighbourhood_Inner Richmond</th>\n",
              "      <th>neighbourhood_Inner Sunset</th>\n",
              "      <th>neighbourhood_Lakeshore</th>\n",
              "      <th>neighbourhood_Marina</th>\n",
              "      <th>neighbourhood_Mission</th>\n",
              "      <th>neighbourhood_Nob Hill</th>\n",
              "      <th>neighbourhood_Noe Valley</th>\n",
              "      <th>neighbourhood_North Beach</th>\n",
              "      <th>neighbourhood_Ocean View</th>\n",
              "      <th>neighbourhood_Outer Mission</th>\n",
              "      <th>neighbourhood_Outer Richmond</th>\n",
              "      <th>neighbourhood_Outer Sunset</th>\n",
              "      <th>neighbourhood_Pacific Heights</th>\n",
              "      <th>neighbourhood_Parkside</th>\n",
              "      <th>neighbourhood_Potrero Hill</th>\n",
              "      <th>neighbourhood_Presidio</th>\n",
              "      <th>neighbourhood_Presidio Heights</th>\n",
              "      <th>neighbourhood_Russian Hill</th>\n",
              "      <th>neighbourhood_Seacliff</th>\n",
              "      <th>neighbourhood_South of Market</th>\n",
              "      <th>neighbourhood_Treasure Island/YBI</th>\n",
              "      <th>neighbourhood_Twin Peaks</th>\n",
              "      <th>neighbourhood_Visitacion Valley</th>\n",
              "      <th>neighbourhood_West of Twin Peaks</th>\n",
              "      <th>neighbourhood_Western Addition</th>\n",
              "      <th>property_type_Hotel</th>\n",
              "      <th>property_type_House</th>\n",
              "      <th>room_type_Hotel room</th>\n",
              "      <th>room_type_Private room</th>\n",
              "      <th>room_type_Shared room</th>\n",
              "      <th>bed_type_Couch</th>\n",
              "      <th>bed_type_Futon</th>\n",
              "      <th>bed_type_Pull-out Sofa</th>\n",
              "      <th>bed_type_Real Bed</th>\n",
              "      <th>cancellation_policy_moderate</th>\n",
              "      <th>cancellation_policy_strict</th>\n",
              "      <th>cancellation_policy_strict_14_with_grace_period</th>\n",
              "      <th>cancellation_policy_super_strict_30</th>\n",
              "      <th>cancellation_policy_super_strict_60</th>\n",
              "      <th>rent_term_short_term</th>\n",
              "      <th>host_since</th>\n",
              "      <th>accommodates</th>\n",
              "      <th>bathrooms</th>\n",
              "      <th>bedrooms</th>\n",
              "      <th>emenities_num</th>\n",
              "      <th>security_deposit</th>\n",
              "      <th>cleaning_fee</th>\n",
              "      <th>guests_included</th>\n",
              "      <th>extra_people</th>\n",
              "      <th>min_nights</th>\n",
              "      <th>number_of_reviews</th>\n",
              "      <th>host_listing_count</th>\n",
              "      <th>listing_duration</th>\n",
              "      <th>review_per_month</th>\n",
              "      <th>review_score</th>\n",
              "    </tr>\n",
              "  </thead>\n",
              "  <tbody>\n",
              "    <tr>\n",
              "      <th>0</th>\n",
              "      <td>1</td>\n",
              "      <td>1.00</td>\n",
              "      <td>1</td>\n",
              "      <td>1</td>\n",
              "      <td>1</td>\n",
              "      <td>0</td>\n",
              "      <td>0</td>\n",
              "      <td>0</td>\n",
              "      <td>0</td>\n",
              "      <td>0</td>\n",
              "      <td>0</td>\n",
              "      <td>0</td>\n",
              "      <td>0</td>\n",
              "      <td>0</td>\n",
              "      <td>0</td>\n",
              "      <td>0</td>\n",
              "      <td>0</td>\n",
              "      <td>0</td>\n",
              "      <td>0</td>\n",
              "      <td>0</td>\n",
              "      <td>0</td>\n",
              "      <td>0</td>\n",
              "      <td>0</td>\n",
              "      <td>0</td>\n",
              "      <td>0</td>\n",
              "      <td>0</td>\n",
              "      <td>0</td>\n",
              "      <td>0</td>\n",
              "      <td>0</td>\n",
              "      <td>0</td>\n",
              "      <td>0</td>\n",
              "      <td>0</td>\n",
              "      <td>0</td>\n",
              "      <td>0</td>\n",
              "      <td>0</td>\n",
              "      <td>0</td>\n",
              "      <td>0</td>\n",
              "      <td>0</td>\n",
              "      <td>0</td>\n",
              "      <td>0</td>\n",
              "      <td>0</td>\n",
              "      <td>0</td>\n",
              "      <td>0</td>\n",
              "      <td>0</td>\n",
              "      <td>0</td>\n",
              "      <td>1</td>\n",
              "      <td>0</td>\n",
              "      <td>0</td>\n",
              "      <td>0</td>\n",
              "      <td>0</td>\n",
              "      <td>0</td>\n",
              "      <td>0</td>\n",
              "      <td>0</td>\n",
              "      <td>0</td>\n",
              "      <td>1</td>\n",
              "      <td>1</td>\n",
              "      <td>0</td>\n",
              "      <td>0</td>\n",
              "      <td>0</td>\n",
              "      <td>0</td>\n",
              "      <td>1</td>\n",
              "      <td>-2.525224</td>\n",
              "      <td>0.018350</td>\n",
              "      <td>-0.385266</td>\n",
              "      <td>-0.308769</td>\n",
              "      <td>0.435115</td>\n",
              "      <td>-0.367661</td>\n",
              "      <td>0.099758</td>\n",
              "      <td>0.319896</td>\n",
              "      <td>0.336753</td>\n",
              "      <td>-0.011487</td>\n",
              "      <td>2.115158</td>\n",
              "      <td>-0.404634</td>\n",
              "      <td>3.672382</td>\n",
              "      <td>0.073726</td>\n",
              "      <td>0.542253</td>\n",
              "    </tr>\n",
              "    <tr>\n",
              "      <th>1</th>\n",
              "      <td>1</td>\n",
              "      <td>1.00</td>\n",
              "      <td>1</td>\n",
              "      <td>1</td>\n",
              "      <td>1</td>\n",
              "      <td>0</td>\n",
              "      <td>0</td>\n",
              "      <td>0</td>\n",
              "      <td>0</td>\n",
              "      <td>1</td>\n",
              "      <td>0</td>\n",
              "      <td>0</td>\n",
              "      <td>0</td>\n",
              "      <td>0</td>\n",
              "      <td>0</td>\n",
              "      <td>0</td>\n",
              "      <td>0</td>\n",
              "      <td>0</td>\n",
              "      <td>0</td>\n",
              "      <td>0</td>\n",
              "      <td>0</td>\n",
              "      <td>0</td>\n",
              "      <td>1</td>\n",
              "      <td>0</td>\n",
              "      <td>0</td>\n",
              "      <td>0</td>\n",
              "      <td>0</td>\n",
              "      <td>0</td>\n",
              "      <td>0</td>\n",
              "      <td>0</td>\n",
              "      <td>0</td>\n",
              "      <td>0</td>\n",
              "      <td>0</td>\n",
              "      <td>0</td>\n",
              "      <td>0</td>\n",
              "      <td>0</td>\n",
              "      <td>0</td>\n",
              "      <td>0</td>\n",
              "      <td>0</td>\n",
              "      <td>0</td>\n",
              "      <td>0</td>\n",
              "      <td>0</td>\n",
              "      <td>0</td>\n",
              "      <td>0</td>\n",
              "      <td>0</td>\n",
              "      <td>0</td>\n",
              "      <td>0</td>\n",
              "      <td>1</td>\n",
              "      <td>0</td>\n",
              "      <td>1</td>\n",
              "      <td>0</td>\n",
              "      <td>0</td>\n",
              "      <td>0</td>\n",
              "      <td>0</td>\n",
              "      <td>1</td>\n",
              "      <td>0</td>\n",
              "      <td>0</td>\n",
              "      <td>1</td>\n",
              "      <td>0</td>\n",
              "      <td>0</td>\n",
              "      <td>1</td>\n",
              "      <td>-2.525224</td>\n",
              "      <td>-0.579964</td>\n",
              "      <td>-0.385266</td>\n",
              "      <td>-0.308769</td>\n",
              "      <td>0.250395</td>\n",
              "      <td>-0.521609</td>\n",
              "      <td>-0.984384</td>\n",
              "      <td>0.319896</td>\n",
              "      <td>0.159368</td>\n",
              "      <td>-0.011487</td>\n",
              "      <td>1.406054</td>\n",
              "      <td>-0.368852</td>\n",
              "      <td>3.681083</td>\n",
              "      <td>-0.146369</td>\n",
              "      <td>0.585491</td>\n",
              "    </tr>\n",
              "    <tr>\n",
              "      <th>2</th>\n",
              "      <td>1</td>\n",
              "      <td>0.80</td>\n",
              "      <td>0</td>\n",
              "      <td>1</td>\n",
              "      <td>1</td>\n",
              "      <td>0</td>\n",
              "      <td>0</td>\n",
              "      <td>0</td>\n",
              "      <td>0</td>\n",
              "      <td>0</td>\n",
              "      <td>1</td>\n",
              "      <td>0</td>\n",
              "      <td>0</td>\n",
              "      <td>0</td>\n",
              "      <td>0</td>\n",
              "      <td>0</td>\n",
              "      <td>0</td>\n",
              "      <td>0</td>\n",
              "      <td>0</td>\n",
              "      <td>0</td>\n",
              "      <td>0</td>\n",
              "      <td>0</td>\n",
              "      <td>0</td>\n",
              "      <td>0</td>\n",
              "      <td>0</td>\n",
              "      <td>0</td>\n",
              "      <td>0</td>\n",
              "      <td>0</td>\n",
              "      <td>0</td>\n",
              "      <td>0</td>\n",
              "      <td>0</td>\n",
              "      <td>0</td>\n",
              "      <td>0</td>\n",
              "      <td>0</td>\n",
              "      <td>0</td>\n",
              "      <td>0</td>\n",
              "      <td>0</td>\n",
              "      <td>0</td>\n",
              "      <td>0</td>\n",
              "      <td>0</td>\n",
              "      <td>0</td>\n",
              "      <td>0</td>\n",
              "      <td>0</td>\n",
              "      <td>0</td>\n",
              "      <td>0</td>\n",
              "      <td>0</td>\n",
              "      <td>0</td>\n",
              "      <td>0</td>\n",
              "      <td>0</td>\n",
              "      <td>0</td>\n",
              "      <td>0</td>\n",
              "      <td>0</td>\n",
              "      <td>0</td>\n",
              "      <td>0</td>\n",
              "      <td>1</td>\n",
              "      <td>0</td>\n",
              "      <td>0</td>\n",
              "      <td>1</td>\n",
              "      <td>0</td>\n",
              "      <td>0</td>\n",
              "      <td>1</td>\n",
              "      <td>-2.129487</td>\n",
              "      <td>1.214979</td>\n",
              "      <td>-0.385266</td>\n",
              "      <td>0.906001</td>\n",
              "      <td>-0.950287</td>\n",
              "      <td>-0.521609</td>\n",
              "      <td>0.099758</td>\n",
              "      <td>0.319896</td>\n",
              "      <td>-0.550170</td>\n",
              "      <td>-0.011462</td>\n",
              "      <td>0.796474</td>\n",
              "      <td>-0.404634</td>\n",
              "      <td>3.773065</td>\n",
              "      <td>-0.322445</td>\n",
              "      <td>0.542253</td>\n",
              "    </tr>\n",
              "    <tr>\n",
              "      <th>3</th>\n",
              "      <td>1</td>\n",
              "      <td>0.86</td>\n",
              "      <td>1</td>\n",
              "      <td>1</td>\n",
              "      <td>1</td>\n",
              "      <td>0</td>\n",
              "      <td>0</td>\n",
              "      <td>0</td>\n",
              "      <td>0</td>\n",
              "      <td>1</td>\n",
              "      <td>0</td>\n",
              "      <td>0</td>\n",
              "      <td>0</td>\n",
              "      <td>0</td>\n",
              "      <td>0</td>\n",
              "      <td>0</td>\n",
              "      <td>0</td>\n",
              "      <td>0</td>\n",
              "      <td>0</td>\n",
              "      <td>0</td>\n",
              "      <td>1</td>\n",
              "      <td>0</td>\n",
              "      <td>0</td>\n",
              "      <td>0</td>\n",
              "      <td>0</td>\n",
              "      <td>0</td>\n",
              "      <td>0</td>\n",
              "      <td>0</td>\n",
              "      <td>0</td>\n",
              "      <td>0</td>\n",
              "      <td>0</td>\n",
              "      <td>0</td>\n",
              "      <td>0</td>\n",
              "      <td>0</td>\n",
              "      <td>0</td>\n",
              "      <td>0</td>\n",
              "      <td>0</td>\n",
              "      <td>0</td>\n",
              "      <td>0</td>\n",
              "      <td>0</td>\n",
              "      <td>0</td>\n",
              "      <td>0</td>\n",
              "      <td>0</td>\n",
              "      <td>0</td>\n",
              "      <td>0</td>\n",
              "      <td>0</td>\n",
              "      <td>0</td>\n",
              "      <td>0</td>\n",
              "      <td>0</td>\n",
              "      <td>1</td>\n",
              "      <td>0</td>\n",
              "      <td>0</td>\n",
              "      <td>0</td>\n",
              "      <td>0</td>\n",
              "      <td>1</td>\n",
              "      <td>0</td>\n",
              "      <td>0</td>\n",
              "      <td>1</td>\n",
              "      <td>0</td>\n",
              "      <td>0</td>\n",
              "      <td>0</td>\n",
              "      <td>-2.129487</td>\n",
              "      <td>-0.579964</td>\n",
              "      <td>2.933179</td>\n",
              "      <td>-0.308769</td>\n",
              "      <td>-0.857926</td>\n",
              "      <td>-0.213713</td>\n",
              "      <td>-0.502543</td>\n",
              "      <td>-0.539456</td>\n",
              "      <td>-0.124447</td>\n",
              "      <td>-0.011460</td>\n",
              "      <td>-0.360484</td>\n",
              "      <td>-0.261505</td>\n",
              "      <td>3.623905</td>\n",
              "      <td>-0.674597</td>\n",
              "      <td>0.203975</td>\n",
              "    </tr>\n",
              "    <tr>\n",
              "      <th>4</th>\n",
              "      <td>1</td>\n",
              "      <td>0.86</td>\n",
              "      <td>1</td>\n",
              "      <td>1</td>\n",
              "      <td>1</td>\n",
              "      <td>0</td>\n",
              "      <td>0</td>\n",
              "      <td>0</td>\n",
              "      <td>0</td>\n",
              "      <td>1</td>\n",
              "      <td>0</td>\n",
              "      <td>0</td>\n",
              "      <td>0</td>\n",
              "      <td>0</td>\n",
              "      <td>0</td>\n",
              "      <td>0</td>\n",
              "      <td>0</td>\n",
              "      <td>0</td>\n",
              "      <td>0</td>\n",
              "      <td>0</td>\n",
              "      <td>1</td>\n",
              "      <td>0</td>\n",
              "      <td>0</td>\n",
              "      <td>0</td>\n",
              "      <td>0</td>\n",
              "      <td>0</td>\n",
              "      <td>0</td>\n",
              "      <td>0</td>\n",
              "      <td>0</td>\n",
              "      <td>0</td>\n",
              "      <td>0</td>\n",
              "      <td>0</td>\n",
              "      <td>0</td>\n",
              "      <td>0</td>\n",
              "      <td>0</td>\n",
              "      <td>0</td>\n",
              "      <td>0</td>\n",
              "      <td>0</td>\n",
              "      <td>0</td>\n",
              "      <td>0</td>\n",
              "      <td>0</td>\n",
              "      <td>0</td>\n",
              "      <td>0</td>\n",
              "      <td>0</td>\n",
              "      <td>0</td>\n",
              "      <td>0</td>\n",
              "      <td>0</td>\n",
              "      <td>0</td>\n",
              "      <td>0</td>\n",
              "      <td>1</td>\n",
              "      <td>0</td>\n",
              "      <td>0</td>\n",
              "      <td>0</td>\n",
              "      <td>0</td>\n",
              "      <td>1</td>\n",
              "      <td>0</td>\n",
              "      <td>0</td>\n",
              "      <td>1</td>\n",
              "      <td>0</td>\n",
              "      <td>0</td>\n",
              "      <td>0</td>\n",
              "      <td>-2.129487</td>\n",
              "      <td>-0.579964</td>\n",
              "      <td>2.933179</td>\n",
              "      <td>-0.308769</td>\n",
              "      <td>-1.042647</td>\n",
              "      <td>-0.213713</td>\n",
              "      <td>-0.502543</td>\n",
              "      <td>-0.539456</td>\n",
              "      <td>-0.124447</td>\n",
              "      <td>-0.011460</td>\n",
              "      <td>-0.484888</td>\n",
              "      <td>-0.261505</td>\n",
              "      <td>1.344244</td>\n",
              "      <td>-0.674597</td>\n",
              "      <td>0.415081</td>\n",
              "    </tr>\n",
              "  </tbody>\n",
              "</table>\n",
              "</div>"
            ],
            "text/plain": [
              "   host_local  host_response_rate_pct  ...  review_per_month  review_score\n",
              "0           1                    1.00  ...          0.073726      0.542253\n",
              "1           1                    1.00  ...         -0.146369      0.585491\n",
              "2           1                    0.80  ...         -0.322445      0.542253\n",
              "3           1                    0.86  ...         -0.674597      0.203975\n",
              "4           1                    0.86  ...         -0.674597      0.415081\n",
              "\n",
              "[5 rows x 76 columns]"
            ]
          },
          "metadata": {
            "tags": []
          },
          "execution_count": 259
        }
      ]
    },
    {
      "cell_type": "markdown",
      "metadata": {
        "colab_type": "text",
        "id": "LcrE-06-GKNP"
      },
      "source": [
        "### Train/test split"
      ]
    },
    {
      "cell_type": "markdown",
      "metadata": {
        "colab_type": "text",
        "id": "fi5dG1AnGKNT"
      },
      "source": [
        "\n",
        "\n",
        "To be able to evaluate future model performance let's divide the data on train and test subsets.\n",
        "\n",
        "---\n",
        "\n"
      ]
    },
    {
      "cell_type": "code",
      "metadata": {
        "colab_type": "code",
        "id": "i4-07jF7GKNU",
        "colab": {
          "base_uri": "https://localhost:8080/",
          "height": 51
        },
        "outputId": "96ad3cef-5f2f-4339-b2b0-4dde6fd9a501"
      },
      "source": [
        "X_train, X_test, Y_train, Y_test = train_test_split(X, y, test_size=0.2, random_state=0)\n",
        "print('X_train.shape: ', X_train.shape, '\\tX_test.shape: ', X_test.shape, '\\nY_train.shape: ', Y_train.shape, '\\tY_test.shape: ', Y_test.shape)"
      ],
      "execution_count": 261,
      "outputs": [
        {
          "output_type": "stream",
          "text": [
            "X_train.shape:  (6077, 76) \tX_test.shape:  (1520, 76) \n",
            "Y_train.shape:  (6077,) \tY_test.shape:  (1520,)\n"
          ],
          "name": "stdout"
        }
      ]
    },
    {
      "cell_type": "markdown",
      "metadata": {
        "id": "S_Jl5AALZi3w",
        "colab_type": "text"
      },
      "source": [
        "## Ordinary Least Squares Model"
      ]
    },
    {
      "cell_type": "markdown",
      "metadata": {
        "id": "UhN0GMPwFU4l",
        "colab_type": "text"
      },
      "source": [
        "\n",
        "Let's start with basic Ordinary Least Squares (OLS) Model to create a base line model.\n",
        "\n",
        "---\n",
        "\n"
      ]
    },
    {
      "cell_type": "code",
      "metadata": {
        "id": "R1E3IE-CZyfM",
        "colab_type": "code",
        "colab": {
          "base_uri": "https://localhost:8080/",
          "height": 1000
        },
        "outputId": "7115a7a8-b4a5-4ed2-d5b2-b2e30ab3be2b"
      },
      "source": [
        "X_train1 = sm.add_constant(X_train)\n",
        "\n",
        "model = sm.OLS(Y_train, X_train1)\n",
        "results = model.fit()\n",
        "print(results.summary())"
      ],
      "execution_count": 263,
      "outputs": [
        {
          "output_type": "stream",
          "text": [
            "                            OLS Regression Results                            \n",
            "==============================================================================\n",
            "Dep. Variable:                  price   R-squared:                       0.550\n",
            "Model:                            OLS   Adj. R-squared:                  0.545\n",
            "Method:                 Least Squares   F-statistic:                     97.97\n",
            "Date:                Wed, 12 Aug 2020   Prob (F-statistic):               0.00\n",
            "Time:                        05:16:58   Log-Likelihood:                -33926.\n",
            "No. Observations:                6077   AIC:                         6.800e+04\n",
            "Df Residuals:                    6001   BIC:                         6.851e+04\n",
            "Df Model:                          75                                         \n",
            "Covariance Type:            nonrobust                                         \n",
            "===================================================================================================================\n",
            "                                                      coef    std err          t      P>|t|      [0.025      0.975]\n",
            "-------------------------------------------------------------------------------------------------------------------\n",
            "const                                           -6849.2797    536.819    -12.759      0.000   -7901.637   -5796.923\n",
            "host_local                                        -12.2408      2.397     -5.107      0.000     -16.940      -7.542\n",
            "host_response_rate_pct                             -7.6688     14.098     -0.544      0.586     -35.306      19.968\n",
            "host_is_superhost                                   3.8105      2.023      1.884      0.060      -0.155       7.776\n",
            "host_has_profile_pic                               12.8702     10.834      1.188      0.235      -8.367      34.108\n",
            "host_identity_verified                             11.4297      2.004      5.702      0.000       7.500      15.359\n",
            "instant_bookable                                   -2.1768      1.917     -1.135      0.256      -5.935       1.582\n",
            "require_guest_profile_picture                       0.6213      4.382      0.142      0.887      -7.969       9.211\n",
            "host_response_time_few_days                         7.0306     12.781      0.550      0.582     -18.026      32.087\n",
            "host_response_time_few_hours                       -4.4293      3.935     -1.126      0.260     -12.144       3.285\n",
            "host_response_time_hour                            -3.3495      3.820     -0.877      0.381     -10.838       4.139\n",
            "neighbourhood_Bernal Heights                       26.7548      6.286      4.256      0.000      14.431      39.079\n",
            "neighbourhood_Castro/Upper Market                  67.3079      6.350     10.600      0.000      54.860      79.756\n",
            "neighbourhood_Chinatown                            71.4120      8.737      8.174      0.000      54.285      88.539\n",
            "neighbourhood_Crocker Amazon                       -9.9508     11.455     -0.869      0.385     -32.407      12.505\n",
            "neighbourhood_Diamond Heights                      51.2923     19.413      2.642      0.008      13.236      89.349\n",
            "neighbourhood_Downtown/Civic Center                65.8565      6.232     10.568      0.000      53.640      78.073\n",
            "neighbourhood_Excelsior                           -11.5862      7.370     -1.572      0.116     -26.033       2.861\n",
            "neighbourhood_Financial District                   81.5223      7.864     10.366      0.000      66.106      96.939\n",
            "neighbourhood_Glen Park                            31.1460     10.914      2.854      0.004       9.752      52.540\n",
            "neighbourhood_Golden Gate Park                     60.4424     37.789      1.599      0.110     -13.638     134.523\n",
            "neighbourhood_Haight Ashbury                       51.3121      6.433      7.976      0.000      38.700      63.924\n",
            "neighbourhood_Inner Richmond                       41.1161      7.269      5.656      0.000      26.866      55.366\n",
            "neighbourhood_Inner Sunset                         33.7564      7.662      4.406      0.000      18.736      48.777\n",
            "neighbourhood_Lakeshore                             8.1679     10.720      0.762      0.446     -12.848      29.183\n",
            "neighbourhood_Marina                               83.8979      7.520     11.157      0.000      69.156      98.639\n",
            "neighbourhood_Mission                              56.1251      5.833      9.621      0.000      44.689      67.561\n",
            "neighbourhood_Nob Hill                             63.0880      6.804      9.272      0.000      49.750      76.426\n",
            "neighbourhood_Noe Valley                           58.3990      6.567      8.893      0.000      45.525      71.273\n",
            "neighbourhood_North Beach                          76.7412      7.938      9.667      0.000      61.179      92.303\n",
            "neighbourhood_Ocean View                            1.5018      8.147      0.184      0.854     -14.470      17.474\n",
            "neighbourhood_Outer Mission                        11.0734      7.356      1.505      0.132      -3.347      25.493\n",
            "neighbourhood_Outer Richmond                       24.0026      7.512      3.195      0.001       9.277      38.728\n",
            "neighbourhood_Outer Sunset                         12.9994      6.619      1.964      0.050       0.023      25.975\n",
            "neighbourhood_Pacific Heights                      86.0275      8.378     10.269      0.000      69.604     102.451\n",
            "neighbourhood_Parkside                              2.6148      8.108      0.322      0.747     -13.281      18.510\n",
            "neighbourhood_Potrero Hill                         58.4886      7.125      8.208      0.000      44.520      72.457\n",
            "neighbourhood_Presidio                             38.7727     65.043      0.596      0.551     -88.736     166.281\n",
            "neighbourhood_Presidio Heights                     60.9635     20.282      3.006      0.003      21.204     100.723\n",
            "neighbourhood_Russian Hill                         72.4411      7.992      9.064      0.000      56.774      88.108\n",
            "neighbourhood_Seacliff                             11.4318     18.091      0.632      0.527     -24.033      46.897\n",
            "neighbourhood_South of Market                      81.5973      6.037     13.515      0.000      69.762      93.433\n",
            "neighbourhood_Treasure Island/YBI                8.216e-10   6.34e-11     12.952      0.000    6.97e-10    9.46e-10\n",
            "neighbourhood_Twin Peaks                           42.9721     10.407      4.129      0.000      22.571      63.373\n",
            "neighbourhood_Visitacion Valley                     4.0425      9.926      0.407      0.684     -15.417      23.502\n",
            "neighbourhood_West of Twin Peaks                   16.9773      8.117      2.092      0.037       1.065      32.889\n",
            "neighbourhood_Western Addition                     63.8853      6.012     10.626      0.000      52.099      75.672\n",
            "property_type_Hotel                                16.1915      2.757      5.874      0.000      10.788      21.595\n",
            "property_type_House                                11.6479      2.359      4.938      0.000       7.023      16.272\n",
            "room_type_Hotel room                              -49.8292      5.989     -8.320      0.000     -61.570     -38.088\n",
            "room_type_Private room                            -41.2541      2.311    -17.852      0.000     -45.784     -36.724\n",
            "room_type_Shared room                            -115.6855      5.596    -20.673      0.000    -126.655    -104.716\n",
            "bed_type_Couch                                     68.7518     39.941      1.721      0.085      -9.546     147.050\n",
            "bed_type_Futon                                      6.7090     26.534      0.253      0.800     -45.308      58.726\n",
            "bed_type_Pull-out Sofa                             20.6984     28.856      0.717      0.473     -35.871      77.267\n",
            "bed_type_Real Bed                                   9.1660     23.051      0.398      0.691     -36.022      54.354\n",
            "cancellation_policy_moderate                       -0.0997      2.619     -0.038      0.970      -5.234       5.035\n",
            "cancellation_policy_strict                        -14.3020      8.753     -1.634      0.102     -31.461       2.856\n",
            "cancellation_policy_strict_14_with_grace_period    -1.5743      2.361     -0.667      0.505      -6.202       3.053\n",
            "cancellation_policy_super_strict_30               -11.7946     12.074     -0.977      0.329     -35.465      11.875\n",
            "cancellation_policy_super_strict_60                 3.6147     20.794      0.174      0.862     -37.150      44.379\n",
            "rent_term_short_term                                3.6428      4.819      0.756      0.450      -5.804      13.090\n",
            "host_since                                          1.8836      1.088      1.732      0.083      -0.249       4.016\n",
            "accommodates                                       23.7411      1.391     17.068      0.000      21.014      26.468\n",
            "bathrooms                                          -3.3513      0.943     -3.553      0.000      -5.200      -1.502\n",
            "bedrooms                                           24.9285      1.349     18.478      0.000      22.284      27.573\n",
            "emenities_num                                      11.8970      0.960     12.395      0.000      10.015      13.779\n",
            "security_deposit                                   -0.8746      0.930     -0.940      0.347      -2.698       0.949\n",
            "cleaning_fee                                        1.5867      1.187      1.337      0.181      -0.740       3.914\n",
            "guests_included                                     5.6245      1.079      5.213      0.000       3.509       7.740\n",
            "extra_people                                        1.3182      0.916      1.439      0.150      -0.477       3.114\n",
            "min_nights                                      -6.073e+05   4.69e+04    -12.955      0.000   -6.99e+05   -5.15e+05\n",
            "number_of_reviews                                  -7.7473      1.408     -5.504      0.000     -10.507      -4.988\n",
            "host_listing_count                                 -5.7194      1.241     -4.609      0.000      -8.152      -3.287\n",
            "listing_duration                                   -1.2105      1.428     -0.848      0.397      -4.010       1.589\n",
            "review_per_month                                   -3.4526      1.292     -2.673      0.008      -5.985      -0.920\n",
            "review_score                                       -2.0902      1.184     -1.765      0.078      -4.411       0.231\n",
            "==============================================================================\n",
            "Omnibus:                     1079.240   Durbin-Watson:                   1.987\n",
            "Prob(Omnibus):                  0.000   Jarque-Bera (JB):             3964.492\n",
            "Skew:                           0.860   Prob(JB):                         0.00\n",
            "Kurtosis:                       6.564   Cond. No.                     1.09e+16\n",
            "==============================================================================\n",
            "\n",
            "Warnings:\n",
            "[1] Standard Errors assume that the covariance matrix of the errors is correctly specified.\n",
            "[2] The smallest eigenvalue is 3.58e-28. This might indicate that there are\n",
            "strong multicollinearity problems or that the design matrix is singular.\n"
          ],
          "name": "stdout"
        }
      ]
    },
    {
      "cell_type": "markdown",
      "metadata": {
        "id": "2SF_7pChJHsj",
        "colab_type": "text"
      },
      "source": [
        "\n",
        "\n",
        "---\n",
        "\n",
        "If we have a look on results of Ordinary Least Squares (OLS) model we can see that some of the feature are not statistical significant (have p-values more then 5%). That means that null hypothesis (y is independent from particular feature) is not rejected => coefficient for this feature should be equal to 0. That let us just drop these features and train OLS model again.\n",
        "\n",
        "We also can notice than none of dummies created out of following features are significant:\n",
        "* `host_response_time`\n",
        "* `bed_type`\n",
        "* `cancellation_policy`\n",
        "\n",
        "---\n",
        "\n"
      ]
    },
    {
      "cell_type": "code",
      "metadata": {
        "id": "hJei0zVY0YFb",
        "colab_type": "code",
        "colab": {
          "base_uri": "https://localhost:8080/",
          "height": 51
        },
        "outputId": "26ba1681-b0f9-45ab-d41c-faa7a2fee8de"
      },
      "source": [
        "X2 = X.drop(columns=['host_response_rate_pct', 'host_has_profile_pic', 'instant_bookable', 'require_guest_profile_picture', 'host_response_time_few_days', 'host_response_time_few_hours', 'host_response_time_hour', \n",
        "                      'neighbourhood_Crocker Amazon', 'neighbourhood_Excelsior', 'neighbourhood_Golden Gate Park', 'neighbourhood_Lakeshore', 'neighbourhood_Ocean View', 'neighbourhood_Outer Sunset', \n",
        "                      'neighbourhood_Parkside', 'neighbourhood_Presidio', 'neighbourhood_Seacliff', 'bed_type_Couch', 'bed_type_Futon', 'bed_type_Pull-out Sofa', 'bed_type_Real Bed', 'cancellation_policy_moderate',\n",
        "                      'cancellation_policy_strict', 'cancellation_policy_strict_14_with_grace_period', 'cancellation_policy_super_strict_30', 'cancellation_policy_super_strict_60', 'cleaning_fee', 'min_nights',\n",
        "                      'listing_duration', 'review_score', 'host_is_superhost', 'neighbourhood_Treasure Island/YBI', 'neighbourhood_Visitacion Valley', 'neighbourhood_Outer Mission', 'extra_people'])\n",
        "X_train2, X_test2, Y_train2, Y_test2 = train_test_split(X2, y, test_size=0.2, random_state=0)\n",
        "print('X_train2.shape: ', X_train2.shape, '\\tX_test2.shape: ', X_test2.shape, '\\nY_train2.shape: ', Y_train2.shape, '\\tY_test2.shape: ', Y_test2.shape)"
      ],
      "execution_count": 281,
      "outputs": [
        {
          "output_type": "stream",
          "text": [
            "X_train2.shape:  (6077, 42) \tX_test2.shape:  (1520, 42) \n",
            "Y_train2.shape:  (6077,) \tY_test2.shape:  (1520,)\n"
          ],
          "name": "stdout"
        }
      ]
    },
    {
      "cell_type": "code",
      "metadata": {
        "id": "l7Hkxd8T4GQe",
        "colab_type": "code",
        "colab": {
          "base_uri": "https://localhost:8080/",
          "height": 1000
        },
        "outputId": "08be2383-5aad-481b-c018-7e6d9ca091fa"
      },
      "source": [
        "X_train3 = sm.add_constant(X_train2)\n",
        "\n",
        "model = sm.OLS(Y_train2, X_train3)\n",
        "results = model.fit()\n",
        "print(results.summary())"
      ],
      "execution_count": 282,
      "outputs": [
        {
          "output_type": "stream",
          "text": [
            "                            OLS Regression Results                            \n",
            "==============================================================================\n",
            "Dep. Variable:                  price   R-squared:                       0.532\n",
            "Model:                            OLS   Adj. R-squared:                  0.529\n",
            "Method:                 Least Squares   F-statistic:                     163.5\n",
            "Date:                Wed, 12 Aug 2020   Prob (F-statistic):               0.00\n",
            "Time:                        05:55:59   Log-Likelihood:                -34046.\n",
            "No. Observations:                6077   AIC:                         6.818e+04\n",
            "Df Residuals:                    6034   BIC:                         6.847e+04\n",
            "Df Model:                          42                                         \n",
            "Covariance Type:            nonrobust                                         \n",
            "=======================================================================================================\n",
            "                                          coef    std err          t      P>|t|      [0.025      0.975]\n",
            "-------------------------------------------------------------------------------------------------------\n",
            "const                                 110.4657      5.419     20.384      0.000      99.842     121.089\n",
            "host_local                            -11.2220      2.346     -4.784      0.000     -15.820      -6.624\n",
            "host_identity_verified                 11.9785      1.971      6.076      0.000       8.114      15.843\n",
            "neighbourhood_Bernal Heights           26.3943      4.330      6.096      0.000      17.906      34.882\n",
            "neighbourhood_Castro/Upper Market      66.7694      4.423     15.095      0.000      58.098      75.441\n",
            "neighbourhood_Chinatown                65.9613      7.501      8.793      0.000      51.256      80.667\n",
            "neighbourhood_Diamond Heights          52.4493     19.138      2.741      0.006      14.933      89.966\n",
            "neighbourhood_Downtown/Civic Center    63.3989      4.152     15.271      0.000      55.260      71.538\n",
            "neighbourhood_Financial District       79.2861      6.428     12.334      0.000      66.685      91.887\n",
            "neighbourhood_Glen Park                27.8192     10.053      2.767      0.006       8.112      47.527\n",
            "neighbourhood_Haight Ashbury           48.7227      4.532     10.750      0.000      39.837      57.608\n",
            "neighbourhood_Inner Richmond           38.0452      5.696      6.679      0.000      26.879      49.211\n",
            "neighbourhood_Inner Sunset             31.5942      6.217      5.082      0.000      19.407      43.782\n",
            "neighbourhood_Marina                   81.1544      6.029     13.461      0.000      69.336      92.973\n",
            "neighbourhood_Mission                  54.8955      3.632     15.113      0.000      47.775      62.016\n",
            "neighbourhood_Nob Hill                 56.8602      5.108     11.132      0.000      46.847      66.873\n",
            "neighbourhood_Noe Valley               56.6469      4.746     11.935      0.000      47.342      65.951\n",
            "neighbourhood_North Beach              74.4596      6.543     11.380      0.000      61.632      87.287\n",
            "neighbourhood_Outer Richmond           21.5476      6.008      3.586      0.000       9.769      33.326\n",
            "neighbourhood_Pacific Heights          77.7397      7.078     10.983      0.000      63.863      91.616\n",
            "neighbourhood_Potrero Hill             57.6379      5.516     10.449      0.000      46.824      68.451\n",
            "neighbourhood_Presidio Heights         56.9478     20.042      2.841      0.005      17.659      96.237\n",
            "neighbourhood_Russian Hill             68.6033      6.595     10.402      0.000      55.674      81.532\n",
            "neighbourhood_South of Market          76.7225      3.961     19.370      0.000      68.958      84.487\n",
            "neighbourhood_Twin Peaks               37.0742      9.468      3.916      0.000      18.513      55.635\n",
            "neighbourhood_West of Twin Peaks       15.0250      6.773      2.218      0.027       1.748      28.302\n",
            "neighbourhood_Western Addition         62.4947      3.896     16.040      0.000      54.857      70.132\n",
            "property_type_Hotel                    19.7997      2.759      7.177      0.000      14.392      25.208\n",
            "property_type_House                    11.9357      2.377      5.022      0.000       7.276      16.595\n",
            "room_type_Hotel room                  -47.4769      5.975     -7.946      0.000     -59.191     -35.763\n",
            "room_type_Private room                -39.1680      2.252    -17.389      0.000     -43.584     -34.752\n",
            "room_type_Shared room                -117.2992      5.531    -21.208      0.000    -128.142    -106.457\n",
            "rent_term_short_term                   26.5901      4.417      6.020      0.000      17.931      35.249\n",
            "host_since                              2.8265      1.029      2.747      0.006       0.809       4.844\n",
            "accommodates                           24.7774      1.393     17.791      0.000      22.047      27.508\n",
            "bathrooms                              -4.1900      0.947     -4.422      0.000      -6.047      -2.333\n",
            "bedrooms                               25.5359      1.341     19.038      0.000      22.906      28.165\n",
            "emenities_num                          12.7686      0.925     13.804      0.000      10.955      14.582\n",
            "security_deposit                       -2.0819      0.905     -2.301      0.021      -3.856      -0.308\n",
            "guests_included                         5.9039      1.038      5.686      0.000       3.869       7.939\n",
            "number_of_reviews                      -8.0986      1.117     -7.248      0.000     -10.289      -5.908\n",
            "host_listing_count                     -7.7886      0.984     -7.913      0.000      -9.718      -5.859\n",
            "review_per_month                       -2.5142      1.132     -2.222      0.026      -4.733      -0.296\n",
            "==============================================================================\n",
            "Omnibus:                      979.446   Durbin-Watson:                   1.982\n",
            "Prob(Omnibus):                  0.000   Jarque-Bera (JB):             3171.106\n",
            "Skew:                           0.818   Prob(JB):                         0.00\n",
            "Kurtosis:                       6.138   Cond. No.                         42.8\n",
            "==============================================================================\n",
            "\n",
            "Warnings:\n",
            "[1] Standard Errors assume that the covariance matrix of the errors is correctly specified.\n"
          ],
          "name": "stdout"
        }
      ]
    },
    {
      "cell_type": "markdown",
      "metadata": {
        "id": "1lpT9xmNGbeJ",
        "colab_type": "text"
      },
      "source": [
        "\n",
        "\n",
        "---\n",
        "\n",
        "**Model Interpretation**\n",
        "Now that we have the results of our model, lets try to interpret it in detail.\n",
        "\n",
        "* `R-squared`: \n",
        "  * coefficient of determination, helps us to evaluate model performance\n",
        "  * since we have multiple independent variables (feature matrix X) we are more interested in adjusted R-squared\n",
        "* `Adj. R-squared`: tell us that our independent variables (feature matrix X)can explain 52.9% of variations in our dependent variable (target vector y)\n",
        "* `const` = y-intercept: \n",
        "  * has a value of 110.47\n",
        "  * that means that putting all other X variables at 0, an Entire Apartment in Bayview will have a predicted price of \\$110.47 (as long as when we created dummy variables we dropped one dummy from each column which we use as reference)\n",
        "* coefficients:\n",
        "  * coefficient of property_type_House is 11.94\n",
        "  * we interpret as: everything else being constant, an House in Bayview in Manhattan will cost 11.94 more than appartment\n",
        "  * we can similarly interpret coefficient of bathroom as: with everything else being constant, with every one unit increase in  number of bathrooms, the predicted price decreases by 4.19\n",
        "* `std error`:  sample standard deviation for each variable\n",
        "* `t` = value of t-statistic:  z-score of the sample variable (tells us how far a sample is from its mean)\n",
        "  * z-score=2: the sample is two standard deviation away from the mean\n",
        "* `p-value`:  suggests how significant these estimates are:\n",
        "  * p-values < 0.05 => we can reject the Null hypothesis for all variables (all coefficients are not null)\n",
        "  * alpha = 5%: degree of error we are willing to accept\n",
        "* confidence intervals: show the upper bound and lower bound for the TRUE POPULATION coefficient with 95% confidence.\n",
        "\n",
        "\n",
        "---\n",
        "\n"
      ]
    },
    {
      "cell_type": "markdown",
      "metadata": {
        "id": "TtXapBuFafrG",
        "colab_type": "text"
      },
      "source": [
        "## Linear Regression Model"
      ]
    },
    {
      "cell_type": "markdown",
      "metadata": {
        "id": "wFvTVFOeavZx",
        "colab_type": "text"
      },
      "source": [
        "\n",
        "\n",
        "With results we got from OLS analysis we can train and evaluate Linear Regression model.\n",
        "\n",
        "---\n",
        "\n"
      ]
    },
    {
      "cell_type": "code",
      "metadata": {
        "id": "43feZEQxO-dx",
        "colab_type": "code",
        "colab": {
          "base_uri": "https://localhost:8080/",
          "height": 34
        },
        "outputId": "807d7651-9f73-4063-c15b-59a046a8a958"
      },
      "source": [
        "lr = LinearRegression()\n",
        "lr.fit(X_train2, Y_train2)\n",
        "print('R-squared: ', round(lr.score(X_test2, Y_test2), 3))"
      ],
      "execution_count": 328,
      "outputs": [
        {
          "output_type": "stream",
          "text": [
            "R-squared:  0.5\n"
          ],
          "name": "stdout"
        }
      ]
    },
    {
      "cell_type": "markdown",
      "metadata": {
        "id": "7C30L2lFbAZn",
        "colab_type": "text"
      },
      "source": [
        "\n",
        "\n",
        "---\n",
        "\n",
        "We got not so high coefficient of determination (0.5) what means that about 50% of new data might be predicted correct. That is not desired result, so we will try to apply other ML models to get more significant result.\n",
        "\n",
        "But before that, let's have a look on feature coefficient in the linear regression model to get a clue which features have more influence on result.\n",
        "\n",
        "---\n",
        "\n"
      ]
    },
    {
      "cell_type": "code",
      "metadata": {
        "id": "xNHM0e0tPbuI",
        "colab_type": "code",
        "colab": {
          "base_uri": "https://localhost:8080/",
          "height": 793
        },
        "outputId": "e14b7c49-f98f-4d3b-d5d4-9706b835ae46"
      },
      "source": [
        "plt.figure(figsize=(15,10))\n",
        "coef = pd.DataFrame(abs(lr.coef_), columns=['coef'])\n",
        "coef['feature'] = X_train2.columns\n",
        "coef.sort_values(by='coef', inplace=True, ascending=False)\n",
        "sns.barplot(x='feature', y='coef', data=coef)\n",
        "plt.xticks(rotation=90);"
      ],
      "execution_count": 311,
      "outputs": [
        {
          "output_type": "display_data",
          "data": {
            "image/png": "[encoded data removed]",
            "text/plain": [
              "<Figure size 1080x720 with 1 Axes>"
            ]
          },
          "metadata": {
            "tags": [],
            "needs_background": "light"
          }
        }
      ]
    },
    {
      "cell_type": "markdown",
      "metadata": {
        "id": "GfQANY8RcENn",
        "colab_type": "text"
      },
      "source": [
        "\n",
        "\n",
        "---\n",
        "\n",
        "Looks like `room_type` and `neighbourhood` have the biggest impact on the price.\n",
        "\n",
        "---\n",
        "\n"
      ]
    },
    {
      "cell_type": "markdown",
      "metadata": {
        "id": "YAvZj2_ScWc7",
        "colab_type": "text"
      },
      "source": [
        "## Lasso Regression"
      ]
    },
    {
      "cell_type": "markdown",
      "metadata": {
        "id": "6THmnL1GdiV_",
        "colab_type": "text"
      },
      "source": [
        "\n",
        "\n",
        "\n",
        "Lasso Regression or L1 regularization adds penalty equivalent to absolute value of the magnitude of feature coefficients and shrinks some of them to zero: as higher `alpha` hyperparameter as more penalty is added => more coefficients = 0.\n",
        "\n",
        "To choose the most efficient value of alpha we will use cross-validation.\n",
        "\n",
        "---\n",
        "\n"
      ]
    },
    {
      "cell_type": "code",
      "metadata": {
        "id": "ksHE3qox6aYD",
        "colab_type": "code",
        "colab": {
          "base_uri": "https://localhost:8080/",
          "height": 51
        },
        "outputId": "849da29c-885d-4b17-c4a6-13fea845aa6a"
      },
      "source": [
        "gs_lasso = GridSearchCV(estimator=Lasso(random_state=0), param_grid={'alpha':[10**i for i in range(-3, 4)]}, cv=10, n_jobs=-1)\n",
        "gs_lasso.fit(X_train, Y_train)\n",
        "print('Best score: ', gs_lasso.best_score_, '\\nBest parameter: ', gs_lasso.best_params_)"
      ],
      "execution_count": 356,
      "outputs": [
        {
          "output_type": "stream",
          "text": [
            "Best score:  0.5240022654549155 \n",
            "Best parameter:  {'alpha': 0.01}\n"
          ],
          "name": "stdout"
        }
      ]
    },
    {
      "cell_type": "code",
      "metadata": {
        "id": "aA2CCkHMfli3",
        "colab_type": "code",
        "colab": {
          "base_uri": "https://localhost:8080/",
          "height": 34
        },
        "outputId": "d601944e-7f81-4d13-9497-7d5a77182b55"
      },
      "source": [
        "lasso = Lasso(alpha=0.02)\n",
        "lasso.fit(X_train, Y_train)\n",
        "print('R-squared: ', round(lasso.score(X_test, Y_test), 3))"
      ],
      "execution_count": 376,
      "outputs": [
        {
          "output_type": "stream",
          "text": [
            "R-squared:  0.51\n"
          ],
          "name": "stdout"
        }
      ]
    },
    {
      "cell_type": "markdown",
      "metadata": {
        "id": "LSGGf1U0ha3m",
        "colab_type": "text"
      },
      "source": [
        "\n",
        "\n",
        "---\n",
        "\n",
        "We got slightly better result: 51%  of new data might be predicted correct.\n",
        "\n",
        "Let's have a look on feature that Lasso Regression shrinked to zero which we can consider as less important.\n",
        "\n",
        "---\n",
        "\n"
      ]
    },
    {
      "cell_type": "code",
      "metadata": {
        "id": "Hy0s8lymh9D0",
        "colab_type": "code",
        "colab": {
          "base_uri": "https://localhost:8080/",
          "height": 297
        },
        "outputId": "9af248f1-ea3c-4191-a43a-469f62de4fd0"
      },
      "source": [
        "coef = pd.DataFrame(abs(lasso.coef_), columns=['coef'])\n",
        "coef['feature'] = X_train.columns\n",
        "coef[coef.coef==0]"
      ],
      "execution_count": 378,
      "outputs": [
        {
          "output_type": "execute_result",
          "data": {
            "text/html": [
              "<div>\n",
              "<style scoped>\n",
              "    .dataframe tbody tr th:only-of-type {\n",
              "        vertical-align: middle;\n",
              "    }\n",
              "\n",
              "    .dataframe tbody tr th {\n",
              "        vertical-align: top;\n",
              "    }\n",
              "\n",
              "    .dataframe thead th {\n",
              "        text-align: right;\n",
              "    }\n",
              "</style>\n",
              "<table border=\"1\" class=\"dataframe\">\n",
              "  <thead>\n",
              "    <tr style=\"text-align: right;\">\n",
              "      <th></th>\n",
              "      <th>coef</th>\n",
              "      <th>feature</th>\n",
              "    </tr>\n",
              "  </thead>\n",
              "  <tbody>\n",
              "    <tr>\n",
              "      <th>32</th>\n",
              "      <td>0.0</td>\n",
              "      <td>neighbourhood_Outer Sunset</td>\n",
              "    </tr>\n",
              "    <tr>\n",
              "      <th>36</th>\n",
              "      <td>0.0</td>\n",
              "      <td>neighbourhood_Presidio</td>\n",
              "    </tr>\n",
              "    <tr>\n",
              "      <th>39</th>\n",
              "      <td>0.0</td>\n",
              "      <td>neighbourhood_Seacliff</td>\n",
              "    </tr>\n",
              "    <tr>\n",
              "      <th>41</th>\n",
              "      <td>0.0</td>\n",
              "      <td>neighbourhood_Treasure Island/YBI</td>\n",
              "    </tr>\n",
              "    <tr>\n",
              "      <th>52</th>\n",
              "      <td>0.0</td>\n",
              "      <td>bed_type_Futon</td>\n",
              "    </tr>\n",
              "    <tr>\n",
              "      <th>54</th>\n",
              "      <td>0.0</td>\n",
              "      <td>bed_type_Real Bed</td>\n",
              "    </tr>\n",
              "    <tr>\n",
              "      <th>59</th>\n",
              "      <td>0.0</td>\n",
              "      <td>cancellation_policy_super_strict_60</td>\n",
              "    </tr>\n",
              "    <tr>\n",
              "      <th>70</th>\n",
              "      <td>0.0</td>\n",
              "      <td>min_nights</td>\n",
              "    </tr>\n",
              "  </tbody>\n",
              "</table>\n",
              "</div>"
            ],
            "text/plain": [
              "    coef                              feature\n",
              "32   0.0           neighbourhood_Outer Sunset\n",
              "36   0.0               neighbourhood_Presidio\n",
              "39   0.0               neighbourhood_Seacliff\n",
              "41   0.0    neighbourhood_Treasure Island/YBI\n",
              "52   0.0                       bed_type_Futon\n",
              "54   0.0                    bed_type_Real Bed\n",
              "59   0.0  cancellation_policy_super_strict_60\n",
              "70   0.0                           min_nights"
            ]
          },
          "metadata": {
            "tags": []
          },
          "execution_count": 378
        }
      ]
    },
    {
      "cell_type": "markdown",
      "metadata": {
        "id": "fDZ7Ju-Qimvm",
        "colab_type": "text"
      },
      "source": [
        "\n",
        "\n",
        "---\n",
        "\n",
        "We can notice that `min_nights`, `cancellation_policy` and `bed_type` (which we remove from training data during OLS analysis as well) might have the least impact on the `price`.\n",
        "\n",
        "---\n",
        "\n"
      ]
    },
    {
      "cell_type": "markdown",
      "metadata": {
        "id": "Khm_7emdLzy1",
        "colab_type": "text"
      },
      "source": [
        "# Tree-based models"
      ]
    },
    {
      "cell_type": "markdown",
      "metadata": {
        "id": "BL2j8VpXMDH3",
        "colab_type": "text"
      },
      "source": [
        "## Load Data"
      ]
    },
    {
      "cell_type": "code",
      "metadata": {
        "id": "GqbDkcfrMKPS",
        "colab_type": "code",
        "colab": {
          "base_uri": "https://localhost:8080/",
          "height": 287
        },
        "outputId": "f583c613-2647-4b84-e83b-8dbe1eb81aba"
      },
      "source": [
        "df = pd.read_csv('https://raw.githubusercontent.com/pe44enka/AirbnbPricePrediction/master/data/SF_cleaned_tree.csv')\n",
        "print(df.shape)\n",
        "df.head()"
      ],
      "execution_count": 106,
      "outputs": [
        {
          "output_type": "stream",
          "text": [
            "(7597, 84)\n"
          ],
          "name": "stdout"
        },
        {
          "output_type": "execute_result",
          "data": {
            "text/html": [
              "<div>\n",
              "<style scoped>\n",
              "    .dataframe tbody tr th:only-of-type {\n",
              "        vertical-align: middle;\n",
              "    }\n",
              "\n",
              "    .dataframe tbody tr th {\n",
              "        vertical-align: top;\n",
              "    }\n",
              "\n",
              "    .dataframe thead th {\n",
              "        text-align: right;\n",
              "    }\n",
              "</style>\n",
              "<table border=\"1\" class=\"dataframe\">\n",
              "  <thead>\n",
              "    <tr style=\"text-align: right;\">\n",
              "      <th></th>\n",
              "      <th>host_since</th>\n",
              "      <th>host_local</th>\n",
              "      <th>host_response_rate_pct</th>\n",
              "      <th>host_is_superhost</th>\n",
              "      <th>host_has_profile_pic</th>\n",
              "      <th>host_identity_verified</th>\n",
              "      <th>accommodates</th>\n",
              "      <th>bathrooms</th>\n",
              "      <th>bedrooms</th>\n",
              "      <th>emenities_num</th>\n",
              "      <th>price</th>\n",
              "      <th>security_deposit</th>\n",
              "      <th>cleaning_fee</th>\n",
              "      <th>guests_included</th>\n",
              "      <th>extra_people</th>\n",
              "      <th>min_nights</th>\n",
              "      <th>number_of_reviews</th>\n",
              "      <th>instant_bookable</th>\n",
              "      <th>require_guest_profile_picture</th>\n",
              "      <th>host_listing_count</th>\n",
              "      <th>listing_duration</th>\n",
              "      <th>review_per_month</th>\n",
              "      <th>review_score</th>\n",
              "      <th>host_response_time_day</th>\n",
              "      <th>host_response_time_few_days</th>\n",
              "      <th>host_response_time_few_hours</th>\n",
              "      <th>host_response_time_hour</th>\n",
              "      <th>neighbourhood_Bayview</th>\n",
              "      <th>neighbourhood_Bernal Heights</th>\n",
              "      <th>neighbourhood_Castro/Upper Market</th>\n",
              "      <th>neighbourhood_Chinatown</th>\n",
              "      <th>neighbourhood_Crocker Amazon</th>\n",
              "      <th>neighbourhood_Diamond Heights</th>\n",
              "      <th>neighbourhood_Downtown/Civic Center</th>\n",
              "      <th>neighbourhood_Excelsior</th>\n",
              "      <th>neighbourhood_Financial District</th>\n",
              "      <th>neighbourhood_Glen Park</th>\n",
              "      <th>neighbourhood_Golden Gate Park</th>\n",
              "      <th>neighbourhood_Haight Ashbury</th>\n",
              "      <th>neighbourhood_Inner Richmond</th>\n",
              "      <th>...</th>\n",
              "      <th>neighbourhood_Nob Hill</th>\n",
              "      <th>neighbourhood_Noe Valley</th>\n",
              "      <th>neighbourhood_North Beach</th>\n",
              "      <th>neighbourhood_Ocean View</th>\n",
              "      <th>neighbourhood_Outer Mission</th>\n",
              "      <th>neighbourhood_Outer Richmond</th>\n",
              "      <th>neighbourhood_Outer Sunset</th>\n",
              "      <th>neighbourhood_Pacific Heights</th>\n",
              "      <th>neighbourhood_Parkside</th>\n",
              "      <th>neighbourhood_Potrero Hill</th>\n",
              "      <th>neighbourhood_Presidio</th>\n",
              "      <th>neighbourhood_Presidio Heights</th>\n",
              "      <th>neighbourhood_Russian Hill</th>\n",
              "      <th>neighbourhood_Seacliff</th>\n",
              "      <th>neighbourhood_South of Market</th>\n",
              "      <th>neighbourhood_Treasure Island/YBI</th>\n",
              "      <th>neighbourhood_Twin Peaks</th>\n",
              "      <th>neighbourhood_Visitacion Valley</th>\n",
              "      <th>neighbourhood_West of Twin Peaks</th>\n",
              "      <th>neighbourhood_Western Addition</th>\n",
              "      <th>property_type_Apartment</th>\n",
              "      <th>property_type_Hotel</th>\n",
              "      <th>property_type_House</th>\n",
              "      <th>room_type_Entire home/apt</th>\n",
              "      <th>room_type_Hotel room</th>\n",
              "      <th>room_type_Private room</th>\n",
              "      <th>room_type_Shared room</th>\n",
              "      <th>bed_type_Airbed</th>\n",
              "      <th>bed_type_Couch</th>\n",
              "      <th>bed_type_Futon</th>\n",
              "      <th>bed_type_Pull-out Sofa</th>\n",
              "      <th>bed_type_Real Bed</th>\n",
              "      <th>cancellation_policy_flexible</th>\n",
              "      <th>cancellation_policy_moderate</th>\n",
              "      <th>cancellation_policy_strict</th>\n",
              "      <th>cancellation_policy_strict_14_with_grace_period</th>\n",
              "      <th>cancellation_policy_super_strict_30</th>\n",
              "      <th>cancellation_policy_super_strict_60</th>\n",
              "      <th>rent_term_long_term</th>\n",
              "      <th>rent_term_short_term</th>\n",
              "    </tr>\n",
              "  </thead>\n",
              "  <tbody>\n",
              "    <tr>\n",
              "      <th>0</th>\n",
              "      <td>2008</td>\n",
              "      <td>1</td>\n",
              "      <td>1.00</td>\n",
              "      <td>1</td>\n",
              "      <td>1</td>\n",
              "      <td>1</td>\n",
              "      <td>3</td>\n",
              "      <td>1.0</td>\n",
              "      <td>1</td>\n",
              "      <td>32</td>\n",
              "      <td>170</td>\n",
              "      <td>100</td>\n",
              "      <td>100</td>\n",
              "      <td>2</td>\n",
              "      <td>25</td>\n",
              "      <td>1</td>\n",
              "      <td>217</td>\n",
              "      <td>0</td>\n",
              "      <td>0</td>\n",
              "      <td>1</td>\n",
              "      <td>3735</td>\n",
              "      <td>1.8</td>\n",
              "      <td>9.83</td>\n",
              "      <td>1</td>\n",
              "      <td>0</td>\n",
              "      <td>0</td>\n",
              "      <td>0</td>\n",
              "      <td>0</td>\n",
              "      <td>0</td>\n",
              "      <td>0</td>\n",
              "      <td>0</td>\n",
              "      <td>0</td>\n",
              "      <td>0</td>\n",
              "      <td>0</td>\n",
              "      <td>0</td>\n",
              "      <td>0</td>\n",
              "      <td>0</td>\n",
              "      <td>0</td>\n",
              "      <td>0</td>\n",
              "      <td>0</td>\n",
              "      <td>...</td>\n",
              "      <td>0</td>\n",
              "      <td>0</td>\n",
              "      <td>0</td>\n",
              "      <td>0</td>\n",
              "      <td>0</td>\n",
              "      <td>0</td>\n",
              "      <td>0</td>\n",
              "      <td>0</td>\n",
              "      <td>0</td>\n",
              "      <td>0</td>\n",
              "      <td>0</td>\n",
              "      <td>0</td>\n",
              "      <td>0</td>\n",
              "      <td>0</td>\n",
              "      <td>0</td>\n",
              "      <td>0</td>\n",
              "      <td>0</td>\n",
              "      <td>0</td>\n",
              "      <td>0</td>\n",
              "      <td>1</td>\n",
              "      <td>1</td>\n",
              "      <td>0</td>\n",
              "      <td>0</td>\n",
              "      <td>1</td>\n",
              "      <td>0</td>\n",
              "      <td>0</td>\n",
              "      <td>0</td>\n",
              "      <td>0</td>\n",
              "      <td>0</td>\n",
              "      <td>0</td>\n",
              "      <td>0</td>\n",
              "      <td>1</td>\n",
              "      <td>0</td>\n",
              "      <td>1</td>\n",
              "      <td>0</td>\n",
              "      <td>0</td>\n",
              "      <td>0</td>\n",
              "      <td>0</td>\n",
              "      <td>0</td>\n",
              "      <td>1</td>\n",
              "    </tr>\n",
              "    <tr>\n",
              "      <th>1</th>\n",
              "      <td>2008</td>\n",
              "      <td>1</td>\n",
              "      <td>1.00</td>\n",
              "      <td>1</td>\n",
              "      <td>1</td>\n",
              "      <td>1</td>\n",
              "      <td>2</td>\n",
              "      <td>1.0</td>\n",
              "      <td>1</td>\n",
              "      <td>30</td>\n",
              "      <td>99</td>\n",
              "      <td>0</td>\n",
              "      <td>10</td>\n",
              "      <td>2</td>\n",
              "      <td>20</td>\n",
              "      <td>1</td>\n",
              "      <td>160</td>\n",
              "      <td>0</td>\n",
              "      <td>0</td>\n",
              "      <td>3</td>\n",
              "      <td>3742</td>\n",
              "      <td>1.3</td>\n",
              "      <td>10.00</td>\n",
              "      <td>0</td>\n",
              "      <td>0</td>\n",
              "      <td>0</td>\n",
              "      <td>1</td>\n",
              "      <td>0</td>\n",
              "      <td>0</td>\n",
              "      <td>0</td>\n",
              "      <td>0</td>\n",
              "      <td>0</td>\n",
              "      <td>0</td>\n",
              "      <td>0</td>\n",
              "      <td>0</td>\n",
              "      <td>0</td>\n",
              "      <td>0</td>\n",
              "      <td>0</td>\n",
              "      <td>0</td>\n",
              "      <td>0</td>\n",
              "      <td>...</td>\n",
              "      <td>0</td>\n",
              "      <td>0</td>\n",
              "      <td>0</td>\n",
              "      <td>0</td>\n",
              "      <td>0</td>\n",
              "      <td>0</td>\n",
              "      <td>0</td>\n",
              "      <td>0</td>\n",
              "      <td>0</td>\n",
              "      <td>0</td>\n",
              "      <td>0</td>\n",
              "      <td>0</td>\n",
              "      <td>0</td>\n",
              "      <td>0</td>\n",
              "      <td>0</td>\n",
              "      <td>0</td>\n",
              "      <td>0</td>\n",
              "      <td>0</td>\n",
              "      <td>0</td>\n",
              "      <td>0</td>\n",
              "      <td>0</td>\n",
              "      <td>0</td>\n",
              "      <td>1</td>\n",
              "      <td>0</td>\n",
              "      <td>0</td>\n",
              "      <td>1</td>\n",
              "      <td>0</td>\n",
              "      <td>0</td>\n",
              "      <td>0</td>\n",
              "      <td>0</td>\n",
              "      <td>0</td>\n",
              "      <td>1</td>\n",
              "      <td>0</td>\n",
              "      <td>0</td>\n",
              "      <td>0</td>\n",
              "      <td>1</td>\n",
              "      <td>0</td>\n",
              "      <td>0</td>\n",
              "      <td>0</td>\n",
              "      <td>1</td>\n",
              "    </tr>\n",
              "    <tr>\n",
              "      <th>2</th>\n",
              "      <td>2009</td>\n",
              "      <td>1</td>\n",
              "      <td>0.80</td>\n",
              "      <td>0</td>\n",
              "      <td>1</td>\n",
              "      <td>1</td>\n",
              "      <td>5</td>\n",
              "      <td>1.0</td>\n",
              "      <td>2</td>\n",
              "      <td>17</td>\n",
              "      <td>235</td>\n",
              "      <td>0</td>\n",
              "      <td>100</td>\n",
              "      <td>2</td>\n",
              "      <td>0</td>\n",
              "      <td>30</td>\n",
              "      <td>111</td>\n",
              "      <td>0</td>\n",
              "      <td>0</td>\n",
              "      <td>1</td>\n",
              "      <td>3816</td>\n",
              "      <td>0.9</td>\n",
              "      <td>9.83</td>\n",
              "      <td>1</td>\n",
              "      <td>0</td>\n",
              "      <td>0</td>\n",
              "      <td>0</td>\n",
              "      <td>0</td>\n",
              "      <td>1</td>\n",
              "      <td>0</td>\n",
              "      <td>0</td>\n",
              "      <td>0</td>\n",
              "      <td>0</td>\n",
              "      <td>0</td>\n",
              "      <td>0</td>\n",
              "      <td>0</td>\n",
              "      <td>0</td>\n",
              "      <td>0</td>\n",
              "      <td>0</td>\n",
              "      <td>0</td>\n",
              "      <td>...</td>\n",
              "      <td>0</td>\n",
              "      <td>0</td>\n",
              "      <td>0</td>\n",
              "      <td>0</td>\n",
              "      <td>0</td>\n",
              "      <td>0</td>\n",
              "      <td>0</td>\n",
              "      <td>0</td>\n",
              "      <td>0</td>\n",
              "      <td>0</td>\n",
              "      <td>0</td>\n",
              "      <td>0</td>\n",
              "      <td>0</td>\n",
              "      <td>0</td>\n",
              "      <td>0</td>\n",
              "      <td>0</td>\n",
              "      <td>0</td>\n",
              "      <td>0</td>\n",
              "      <td>0</td>\n",
              "      <td>0</td>\n",
              "      <td>1</td>\n",
              "      <td>0</td>\n",
              "      <td>0</td>\n",
              "      <td>1</td>\n",
              "      <td>0</td>\n",
              "      <td>0</td>\n",
              "      <td>0</td>\n",
              "      <td>0</td>\n",
              "      <td>0</td>\n",
              "      <td>0</td>\n",
              "      <td>0</td>\n",
              "      <td>1</td>\n",
              "      <td>0</td>\n",
              "      <td>0</td>\n",
              "      <td>0</td>\n",
              "      <td>1</td>\n",
              "      <td>0</td>\n",
              "      <td>0</td>\n",
              "      <td>0</td>\n",
              "      <td>1</td>\n",
              "    </tr>\n",
              "    <tr>\n",
              "      <th>3</th>\n",
              "      <td>2009</td>\n",
              "      <td>1</td>\n",
              "      <td>0.86</td>\n",
              "      <td>1</td>\n",
              "      <td>1</td>\n",
              "      <td>1</td>\n",
              "      <td>2</td>\n",
              "      <td>4.0</td>\n",
              "      <td>1</td>\n",
              "      <td>18</td>\n",
              "      <td>65</td>\n",
              "      <td>200</td>\n",
              "      <td>50</td>\n",
              "      <td>1</td>\n",
              "      <td>12</td>\n",
              "      <td>32</td>\n",
              "      <td>18</td>\n",
              "      <td>0</td>\n",
              "      <td>0</td>\n",
              "      <td>9</td>\n",
              "      <td>3696</td>\n",
              "      <td>0.1</td>\n",
              "      <td>8.50</td>\n",
              "      <td>0</td>\n",
              "      <td>0</td>\n",
              "      <td>0</td>\n",
              "      <td>1</td>\n",
              "      <td>0</td>\n",
              "      <td>0</td>\n",
              "      <td>0</td>\n",
              "      <td>0</td>\n",
              "      <td>0</td>\n",
              "      <td>0</td>\n",
              "      <td>0</td>\n",
              "      <td>0</td>\n",
              "      <td>0</td>\n",
              "      <td>0</td>\n",
              "      <td>0</td>\n",
              "      <td>1</td>\n",
              "      <td>0</td>\n",
              "      <td>...</td>\n",
              "      <td>0</td>\n",
              "      <td>0</td>\n",
              "      <td>0</td>\n",
              "      <td>0</td>\n",
              "      <td>0</td>\n",
              "      <td>0</td>\n",
              "      <td>0</td>\n",
              "      <td>0</td>\n",
              "      <td>0</td>\n",
              "      <td>0</td>\n",
              "      <td>0</td>\n",
              "      <td>0</td>\n",
              "      <td>0</td>\n",
              "      <td>0</td>\n",
              "      <td>0</td>\n",
              "      <td>0</td>\n",
              "      <td>0</td>\n",
              "      <td>0</td>\n",
              "      <td>0</td>\n",
              "      <td>0</td>\n",
              "      <td>1</td>\n",
              "      <td>0</td>\n",
              "      <td>0</td>\n",
              "      <td>0</td>\n",
              "      <td>0</td>\n",
              "      <td>1</td>\n",
              "      <td>0</td>\n",
              "      <td>0</td>\n",
              "      <td>0</td>\n",
              "      <td>0</td>\n",
              "      <td>0</td>\n",
              "      <td>1</td>\n",
              "      <td>0</td>\n",
              "      <td>0</td>\n",
              "      <td>0</td>\n",
              "      <td>1</td>\n",
              "      <td>0</td>\n",
              "      <td>0</td>\n",
              "      <td>1</td>\n",
              "      <td>0</td>\n",
              "    </tr>\n",
              "    <tr>\n",
              "      <th>4</th>\n",
              "      <td>2009</td>\n",
              "      <td>1</td>\n",
              "      <td>0.86</td>\n",
              "      <td>1</td>\n",
              "      <td>1</td>\n",
              "      <td>1</td>\n",
              "      <td>2</td>\n",
              "      <td>4.0</td>\n",
              "      <td>1</td>\n",
              "      <td>16</td>\n",
              "      <td>65</td>\n",
              "      <td>200</td>\n",
              "      <td>50</td>\n",
              "      <td>1</td>\n",
              "      <td>12</td>\n",
              "      <td>32</td>\n",
              "      <td>8</td>\n",
              "      <td>0</td>\n",
              "      <td>0</td>\n",
              "      <td>9</td>\n",
              "      <td>1862</td>\n",
              "      <td>0.1</td>\n",
              "      <td>9.33</td>\n",
              "      <td>0</td>\n",
              "      <td>0</td>\n",
              "      <td>0</td>\n",
              "      <td>1</td>\n",
              "      <td>0</td>\n",
              "      <td>0</td>\n",
              "      <td>0</td>\n",
              "      <td>0</td>\n",
              "      <td>0</td>\n",
              "      <td>0</td>\n",
              "      <td>0</td>\n",
              "      <td>0</td>\n",
              "      <td>0</td>\n",
              "      <td>0</td>\n",
              "      <td>0</td>\n",
              "      <td>1</td>\n",
              "      <td>0</td>\n",
              "      <td>...</td>\n",
              "      <td>0</td>\n",
              "      <td>0</td>\n",
              "      <td>0</td>\n",
              "      <td>0</td>\n",
              "      <td>0</td>\n",
              "      <td>0</td>\n",
              "      <td>0</td>\n",
              "      <td>0</td>\n",
              "      <td>0</td>\n",
              "      <td>0</td>\n",
              "      <td>0</td>\n",
              "      <td>0</td>\n",
              "      <td>0</td>\n",
              "      <td>0</td>\n",
              "      <td>0</td>\n",
              "      <td>0</td>\n",
              "      <td>0</td>\n",
              "      <td>0</td>\n",
              "      <td>0</td>\n",
              "      <td>0</td>\n",
              "      <td>1</td>\n",
              "      <td>0</td>\n",
              "      <td>0</td>\n",
              "      <td>0</td>\n",
              "      <td>0</td>\n",
              "      <td>1</td>\n",
              "      <td>0</td>\n",
              "      <td>0</td>\n",
              "      <td>0</td>\n",
              "      <td>0</td>\n",
              "      <td>0</td>\n",
              "      <td>1</td>\n",
              "      <td>0</td>\n",
              "      <td>0</td>\n",
              "      <td>0</td>\n",
              "      <td>1</td>\n",
              "      <td>0</td>\n",
              "      <td>0</td>\n",
              "      <td>1</td>\n",
              "      <td>0</td>\n",
              "    </tr>\n",
              "  </tbody>\n",
              "</table>\n",
              "<p>5 rows × 84 columns</p>\n",
              "</div>"
            ],
            "text/plain": [
              "   host_since  host_local  ...  rent_term_long_term  rent_term_short_term\n",
              "0        2008           1  ...                    0                     1\n",
              "1        2008           1  ...                    0                     1\n",
              "2        2009           1  ...                    0                     1\n",
              "3        2009           1  ...                    1                     0\n",
              "4        2009           1  ...                    1                     0\n",
              "\n",
              "[5 rows x 84 columns]"
            ]
          },
          "metadata": {
            "tags": []
          },
          "execution_count": 106
        }
      ]
    },
    {
      "cell_type": "markdown",
      "metadata": {
        "id": "qGmCjHaTMPfv",
        "colab_type": "text"
      },
      "source": [
        "\n",
        "\n",
        "---\n",
        "\n",
        "Data was preprocessed earlier, but let's confirm that there is neither missing data nor categorical features.\n",
        "\n",
        "---\n",
        "\n"
      ]
    },
    {
      "cell_type": "code",
      "metadata": {
        "id": "grsd7yZlMWXL",
        "colab_type": "code",
        "colab": {
          "base_uri": "https://localhost:8080/",
          "height": 85
        },
        "outputId": "850977da-afa9-4f5b-f34b-8fb6eef1a33b"
      },
      "source": [
        "df.isna().sum().values"
      ],
      "execution_count": 101,
      "outputs": [
        {
          "output_type": "execute_result",
          "data": {
            "text/plain": [
              "array([0, 0, 0, 0, 0, 0, 0, 0, 0, 0, 0, 0, 0, 0, 0, 0, 0, 0, 0, 0, 0, 0,\n",
              "       0, 0, 0, 0, 0, 0, 0, 0, 0, 0, 0, 0, 0, 0, 0, 0, 0, 0, 0, 0, 0, 0,\n",
              "       0, 0, 0, 0, 0, 0, 0, 0, 0, 0, 0, 0, 0, 0, 0, 0, 0, 0, 0, 0, 0, 0,\n",
              "       0, 0, 0, 0, 0, 0, 0, 0, 0, 0, 0, 0, 0, 0, 0, 0, 0, 0])"
            ]
          },
          "metadata": {
            "tags": []
          },
          "execution_count": 101
        }
      ]
    },
    {
      "cell_type": "code",
      "metadata": {
        "id": "G4kL68NXMYl_",
        "colab_type": "code",
        "colab": {
          "base_uri": "https://localhost:8080/",
          "height": 391
        },
        "outputId": "56aa4c42-bab8-4346-e86c-daaf3794ae93"
      },
      "source": [
        "df.dtypes.values"
      ],
      "execution_count": 100,
      "outputs": [
        {
          "output_type": "execute_result",
          "data": {
            "text/plain": [
              "array([dtype('int64'), dtype('int64'), dtype('float64'), dtype('int64'),\n",
              "       dtype('int64'), dtype('int64'), dtype('int64'), dtype('float64'),\n",
              "       dtype('int64'), dtype('int64'), dtype('int64'), dtype('int64'),\n",
              "       dtype('int64'), dtype('int64'), dtype('int64'), dtype('int64'),\n",
              "       dtype('int64'), dtype('int64'), dtype('int64'), dtype('int64'),\n",
              "       dtype('int64'), dtype('float64'), dtype('float64'), dtype('int64'),\n",
              "       dtype('int64'), dtype('int64'), dtype('int64'), dtype('int64'),\n",
              "       dtype('int64'), dtype('int64'), dtype('int64'), dtype('int64'),\n",
              "       dtype('int64'), dtype('int64'), dtype('int64'), dtype('int64'),\n",
              "       dtype('int64'), dtype('int64'), dtype('int64'), dtype('int64'),\n",
              "       dtype('int64'), dtype('int64'), dtype('int64'), dtype('int64'),\n",
              "       dtype('int64'), dtype('int64'), dtype('int64'), dtype('int64'),\n",
              "       dtype('int64'), dtype('int64'), dtype('int64'), dtype('int64'),\n",
              "       dtype('int64'), dtype('int64'), dtype('int64'), dtype('int64'),\n",
              "       dtype('int64'), dtype('int64'), dtype('int64'), dtype('int64'),\n",
              "       dtype('int64'), dtype('int64'), dtype('int64'), dtype('int64'),\n",
              "       dtype('int64'), dtype('int64'), dtype('int64'), dtype('int64'),\n",
              "       dtype('int64'), dtype('int64'), dtype('int64'), dtype('int64'),\n",
              "       dtype('int64'), dtype('int64'), dtype('int64'), dtype('int64'),\n",
              "       dtype('int64'), dtype('int64'), dtype('int64'), dtype('int64'),\n",
              "       dtype('int64'), dtype('int64'), dtype('int64'), dtype('int64')],\n",
              "      dtype=object)"
            ]
          },
          "metadata": {
            "tags": []
          },
          "execution_count": 100
        }
      ]
    },
    {
      "cell_type": "markdown",
      "metadata": {
        "id": "zW5RKHPCMwjT",
        "colab_type": "text"
      },
      "source": [
        "## Arrange Data"
      ]
    },
    {
      "cell_type": "markdown",
      "metadata": {
        "id": "Pg-qopvAMzbF",
        "colab_type": "text"
      },
      "source": [
        "### Feature Matrix & Target Vector"
      ]
    },
    {
      "cell_type": "markdown",
      "metadata": {
        "id": "LDGx0LUhM-j8",
        "colab_type": "text"
      },
      "source": [
        "\n",
        "As first step, let's arrange data into feature matrix and target vector (`price`).\n",
        "\n",
        "---"
      ]
    },
    {
      "cell_type": "code",
      "metadata": {
        "id": "W3psDmMYM3es",
        "colab_type": "code",
        "colab": {
          "base_uri": "https://localhost:8080/",
          "height": 51
        },
        "outputId": "e3a41294-7780-4c3c-cf50-1e7756347510"
      },
      "source": [
        "y = df.pop('price')\n",
        "X = df\n",
        "print('X.shape: ', X.shape, '\\ny.shape: ', y.shape)"
      ],
      "execution_count": 107,
      "outputs": [
        {
          "output_type": "stream",
          "text": [
            "X.shape:  (7597, 83) \n",
            "y.shape:  (7597,)\n"
          ],
          "name": "stdout"
        }
      ]
    },
    {
      "cell_type": "markdown",
      "metadata": {
        "id": "0U0PzxiLOkbL",
        "colab_type": "text"
      },
      "source": [
        "### Feature Selection: Random Forest"
      ]
    },
    {
      "cell_type": "markdown",
      "metadata": {
        "id": "59RbFJ6lTnYr",
        "colab_type": "text"
      },
      "source": [
        "\n",
        "\n",
        "---\n",
        "\n",
        "\n",
        "\n",
        "---\n",
        "\n"
      ]
    },
    {
      "cell_type": "code",
      "metadata": {
        "id": "T843REiwOALI",
        "colab_type": "code",
        "colab": {
          "base_uri": "https://localhost:8080/",
          "height": 51
        },
        "outputId": "746aa08d-537c-4d49-fae4-9cb3078e0cb1"
      },
      "source": [
        "gs_feature = GridSearchCV(estimator=RandomForestRegressor(n_estimators=100, bootstrap=True, oob_score=True), param_grid={'max_depth':list(range(1, 21))+[None]}, cv=10, n_jobs=-1)\n",
        "gs_feature.fit(X, y)\n",
        "print('Best score: ', gs_feature.best_score_, '\\nBest parameter: ', gs_feature.best_params_)"
      ],
      "execution_count": 111,
      "outputs": [
        {
          "output_type": "stream",
          "text": [
            "Best score:  0.6125570846563362 \n",
            "Best parameter:  {'max_depth': 20}\n"
          ],
          "name": "stdout"
        }
      ]
    },
    {
      "cell_type": "code",
      "metadata": {
        "id": "EuPyhS1ROVZh",
        "colab_type": "code",
        "colab": {
          "base_uri": "https://localhost:8080/"
        },
        "outputId": "9e52ec3e-6f8c-4e9a-c3fa-27bda45cccb6"
      },
      "source": [
        "#feature selection by L1 regularization\n",
        "sfm_model = SelectFromModel(gs_feature.best_estimator_)\n",
        "sfm_model.fit(X, y)\n",
        "X = X.loc[:, X.columns[sfm_model.get_support()]]\n",
        "#X_test = X_test.loc[:, X_test.columns[sfm_model.get_support()]]\n",
        "print(X.shape)\n",
        "X.head()"
      ],
      "execution_count": 112,
      "outputs": [
        {
          "output_type": "stream",
          "text": [
            "(7597, 15)\n"
          ],
          "name": "stdout"
        },
        {
          "output_type": "execute_result",
          "data": {
            "text/html": [
              "<div>\n",
              "<style scoped>\n",
              "    .dataframe tbody tr th:only-of-type {\n",
              "        vertical-align: middle;\n",
              "    }\n",
              "\n",
              "    .dataframe tbody tr th {\n",
              "        vertical-align: top;\n",
              "    }\n",
              "\n",
              "    .dataframe thead th {\n",
              "        text-align: right;\n",
              "    }\n",
              "</style>\n",
              "<table border=\"1\" class=\"dataframe\">\n",
              "  <thead>\n",
              "    <tr style=\"text-align: right;\">\n",
              "      <th></th>\n",
              "      <th>host_since</th>\n",
              "      <th>host_response_rate_pct</th>\n",
              "      <th>accommodates</th>\n",
              "      <th>bathrooms</th>\n",
              "      <th>bedrooms</th>\n",
              "      <th>emenities_num</th>\n",
              "      <th>security_deposit</th>\n",
              "      <th>cleaning_fee</th>\n",
              "      <th>extra_people</th>\n",
              "      <th>min_nights</th>\n",
              "      <th>number_of_reviews</th>\n",
              "      <th>host_listing_count</th>\n",
              "      <th>listing_duration</th>\n",
              "      <th>review_per_month</th>\n",
              "      <th>room_type_Entire home/apt</th>\n",
              "    </tr>\n",
              "  </thead>\n",
              "  <tbody>\n",
              "    <tr>\n",
              "      <th>0</th>\n",
              "      <td>2008</td>\n",
              "      <td>1.00</td>\n",
              "      <td>3</td>\n",
              "      <td>1.0</td>\n",
              "      <td>1</td>\n",
              "      <td>32</td>\n",
              "      <td>100</td>\n",
              "      <td>100</td>\n",
              "      <td>25</td>\n",
              "      <td>1</td>\n",
              "      <td>217</td>\n",
              "      <td>1</td>\n",
              "      <td>3735</td>\n",
              "      <td>1.8</td>\n",
              "      <td>1</td>\n",
              "    </tr>\n",
              "    <tr>\n",
              "      <th>1</th>\n",
              "      <td>2008</td>\n",
              "      <td>1.00</td>\n",
              "      <td>2</td>\n",
              "      <td>1.0</td>\n",
              "      <td>1</td>\n",
              "      <td>30</td>\n",
              "      <td>0</td>\n",
              "      <td>10</td>\n",
              "      <td>20</td>\n",
              "      <td>1</td>\n",
              "      <td>160</td>\n",
              "      <td>3</td>\n",
              "      <td>3742</td>\n",
              "      <td>1.3</td>\n",
              "      <td>0</td>\n",
              "    </tr>\n",
              "    <tr>\n",
              "      <th>2</th>\n",
              "      <td>2009</td>\n",
              "      <td>0.80</td>\n",
              "      <td>5</td>\n",
              "      <td>1.0</td>\n",
              "      <td>2</td>\n",
              "      <td>17</td>\n",
              "      <td>0</td>\n",
              "      <td>100</td>\n",
              "      <td>0</td>\n",
              "      <td>30</td>\n",
              "      <td>111</td>\n",
              "      <td>1</td>\n",
              "      <td>3816</td>\n",
              "      <td>0.9</td>\n",
              "      <td>1</td>\n",
              "    </tr>\n",
              "    <tr>\n",
              "      <th>3</th>\n",
              "      <td>2009</td>\n",
              "      <td>0.86</td>\n",
              "      <td>2</td>\n",
              "      <td>4.0</td>\n",
              "      <td>1</td>\n",
              "      <td>18</td>\n",
              "      <td>200</td>\n",
              "      <td>50</td>\n",
              "      <td>12</td>\n",
              "      <td>32</td>\n",
              "      <td>18</td>\n",
              "      <td>9</td>\n",
              "      <td>3696</td>\n",
              "      <td>0.1</td>\n",
              "      <td>0</td>\n",
              "    </tr>\n",
              "    <tr>\n",
              "      <th>4</th>\n",
              "      <td>2009</td>\n",
              "      <td>0.86</td>\n",
              "      <td>2</td>\n",
              "      <td>4.0</td>\n",
              "      <td>1</td>\n",
              "      <td>16</td>\n",
              "      <td>200</td>\n",
              "      <td>50</td>\n",
              "      <td>12</td>\n",
              "      <td>32</td>\n",
              "      <td>8</td>\n",
              "      <td>9</td>\n",
              "      <td>1862</td>\n",
              "      <td>0.1</td>\n",
              "      <td>0</td>\n",
              "    </tr>\n",
              "  </tbody>\n",
              "</table>\n",
              "</div>"
            ],
            "text/plain": [
              "   host_since  ...  room_type_Entire home/apt\n",
              "0        2008  ...                          1\n",
              "1        2008  ...                          0\n",
              "2        2009  ...                          1\n",
              "3        2009  ...                          0\n",
              "4        2009  ...                          0\n",
              "\n",
              "[5 rows x 15 columns]"
            ]
          },
          "metadata": {
            "tags": []
          },
          "execution_count": 112
        }
      ]
    },
    {
      "cell_type": "markdown",
      "metadata": {
        "id": "N3o6Fp3YNdgW",
        "colab_type": "text"
      },
      "source": [
        "### Train/test split"
      ]
    },
    {
      "cell_type": "markdown",
      "metadata": {
        "id": "BnPmanWLNeuy",
        "colab_type": "text"
      },
      "source": [
        "\n",
        "\n",
        "To be able to evaluate future model performance let's divide the data on train and test subsets.\n",
        "\n",
        "---\n",
        "\n"
      ]
    },
    {
      "cell_type": "code",
      "metadata": {
        "id": "z3hMvzcYNjEx",
        "colab_type": "code",
        "colab": {
          "base_uri": "https://localhost:8080/",
          "height": 51
        },
        "outputId": "859e5b5d-a630-432e-a1d1-98022a049691"
      },
      "source": [
        "X_train, X_test, Y_train, Y_test = train_test_split(X, y, test_size=0.2, random_state=0)\n",
        "print('X_train.shape: ', X_train.shape, '\\tX_test.shape: ', X_test.shape, '\\nY_train.shape: ', Y_train.shape, '\\tY_test.shape: ', Y_test.shape)"
      ],
      "execution_count": 115,
      "outputs": [
        {
          "output_type": "stream",
          "text": [
            "X_train.shape:  (6077, 15) \tX_test.shape:  (1520, 15) \n",
            "Y_train.shape:  (6077,) \tY_test.shape:  (1520,)\n"
          ],
          "name": "stdout"
        }
      ]
    },
    {
      "cell_type": "markdown",
      "metadata": {
        "id": "ovRhvkxHNnV9",
        "colab_type": "text"
      },
      "source": [
        "## Tree-based Models"
      ]
    },
    {
      "cell_type": "markdown",
      "metadata": {
        "id": "8Cb4UQlITJzd",
        "colab_type": "text"
      },
      "source": [
        "### Decision Tree Model"
      ]
    },
    {
      "cell_type": "code",
      "metadata": {
        "id": "4JJfO05vfbeB",
        "colab_type": "code",
        "colab": {
          "base_uri": "https://localhost:8080/",
          "height": 51
        },
        "outputId": "3f3356f3-5ee9-47d9-a8d3-6e817acae92c"
      },
      "source": [
        "gs_dt = GridSearchCV(estimator=DecisionTreeRegressor(random_state=0), param_grid={'max_depth':list(range(1, 20))+[None]}, cv=10, n_jobs=-1)\n",
        "gs_dt.fit(X_train, Y_train)\n",
        "print('Best score: ', gs_dt.best_score_, '\\nBest parameter: ', gs_dt.best_params_)"
      ],
      "execution_count": 121,
      "outputs": [
        {
          "output_type": "stream",
          "text": [
            "Best score:  0.5484330839755659 \n",
            "Best parameter:  {'max_depth': 7}\n"
          ],
          "name": "stdout"
        }
      ]
    },
    {
      "cell_type": "code",
      "metadata": {
        "id": "Xx5N4itbLJhv",
        "colab_type": "code",
        "colab": {
          "base_uri": "https://localhost:8080/",
          "height": 34
        },
        "outputId": "317120e1-e7e8-4419-bba5-e52a6edfbbfe"
      },
      "source": [
        "dt = DecisionTreeRegressor(max_depth=7)\n",
        "dt.fit(X_train, Y_train)\n",
        "dt.score(X_test, Y_test)"
      ],
      "execution_count": 122,
      "outputs": [
        {
          "output_type": "execute_result",
          "data": {
            "text/plain": [
              "0.537866717055848"
            ]
          },
          "metadata": {
            "tags": []
          },
          "execution_count": 122
        }
      ]
    },
    {
      "cell_type": "markdown",
      "metadata": {
        "id": "tx0VCzHNTAJ6",
        "colab_type": "text"
      },
      "source": [
        "### Random Forest Model"
      ]
    },
    {
      "cell_type": "code",
      "metadata": {
        "id": "ELMQ2GguLvIM",
        "colab_type": "code",
        "colab": {
          "base_uri": "https://localhost:8080/",
          "height": 51
        },
        "outputId": "b34f2c21-4d6d-4e77-d82c-002aa1f3a52b"
      },
      "source": [
        "gs_rf = GridSearchCV(estimator=RandomForestRegressor(random_state=0), param_grid={'max_depth':list(range(1, 20))+[None]}, cv=10, n_jobs=-1)\n",
        "gs_rf.fit(X_train, Y_train)\n",
        "print('Best score: ', gs_rf.best_score_, '\\nBest parameter: ', gs_rf.best_params_)"
      ],
      "execution_count": 123,
      "outputs": [
        {
          "output_type": "stream",
          "text": [
            "Best score:  0.6573559893505672 \n",
            "Best parameter:  {'max_depth': 19}\n"
          ],
          "name": "stdout"
        }
      ]
    },
    {
      "cell_type": "code",
      "metadata": {
        "id": "MCPXzZQ7TU4E",
        "colab_type": "code",
        "colab": {
          "base_uri": "https://localhost:8080/",
          "height": 34
        },
        "outputId": "8c66d8d5-5ca4-475a-e01b-a81b85a38ad2"
      },
      "source": [
        "rf = RandomForestRegressor(max_depth=19)\n",
        "rf.fit(X_train, Y_train)\n",
        "rf.score(X_test, Y_test)"
      ],
      "execution_count": 124,
      "outputs": [
        {
          "output_type": "execute_result",
          "data": {
            "text/plain": [
              "0.6243934892618213"
            ]
          },
          "metadata": {
            "tags": []
          },
          "execution_count": 124
        }
      ]
    },
    {
      "cell_type": "markdown",
      "metadata": {
        "id": "5Ukf7aCvVg6R",
        "colab_type": "text"
      },
      "source": [
        "### XGBoost"
      ]
    },
    {
      "cell_type": "code",
      "metadata": {
        "id": "vna8_jJJVWCP",
        "colab_type": "code",
        "colab": {
          "base_uri": "https://localhost:8080/",
          "height": 34
        },
        "outputId": "4d789abe-ba21-4845-b189-762c6afe2e20"
      },
      "source": [
        "xgb1 = XGBRegressor(learning_rate=0.1, n_estimators=1000, max_depth=5, min_child_weight=1, gamma=0, subsample=0.8, colsample_bytree=0.8, scale_pos_weight=1, objective='reg:squarederror', nthread=48, seed=2)\n",
        "xgb1.fit(X_train, Y_train)\n",
        "xgb1.score(X_test, Y_test)"
      ],
      "execution_count": 127,
      "outputs": [
        {
          "output_type": "execute_result",
          "data": {
            "text/plain": [
              "0.6167755270220606"
            ]
          },
          "metadata": {
            "tags": []
          },
          "execution_count": 127
        }
      ]
    },
    {
      "cell_type": "code",
      "metadata": {
        "id": "9IzdTNY9W7c_",
        "colab_type": "code",
        "colab": {}
      },
      "source": [
        ""
      ],
      "execution_count": null,
      "outputs": []
    }
  ]
}